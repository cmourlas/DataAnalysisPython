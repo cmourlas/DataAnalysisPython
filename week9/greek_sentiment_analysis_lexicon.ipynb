{
  "nbformat": 4,
  "nbformat_minor": 0,
  "metadata": {
    "kernelspec": {
      "display_name": "Python 3",
      "language": "python",
      "name": "python3"
    },
    "language_info": {
      "codemirror_mode": {
        "name": "ipython",
        "version": 3
      },
      "file_extension": ".py",
      "mimetype": "text/x-python",
      "name": "python",
      "nbconvert_exporter": "python",
      "pygments_lexer": "ipython3",
      "version": "3.7.2"
    },
    "colab": {
      "name": "greek_sentiment_analysis_lexicon.ipynb",
      "provenance": [],
      "collapsed_sections": []
    }
  },
  "cells": [
    {
      "cell_type": "code",
      "metadata": {
        "id": "lgfioRPvw4bG",
        "colab_type": "code",
        "colab": {}
      },
      "source": [
        "!python -m spacy download el_core_news_md\n"
      ],
      "execution_count": 0,
      "outputs": []
    },
    {
      "cell_type": "code",
      "metadata": {
        "id": "btNsnrqer-WM",
        "colab_type": "code",
        "colab": {}
      },
      "source": [
        "import spacy\n",
        "from spacy import displacy\n",
        "import pandas as pd\n",
        "from collections import defaultdict\n",
        "import operator\n"
      ],
      "execution_count": 0,
      "outputs": []
    },
    {
      "cell_type": "code",
      "metadata": {
        "id": "dbxuiv52OF25",
        "colab_type": "code",
        "colab": {}
      },
      "source": [
        "indexes = {}\n",
        "df = pd.read_csv('https://raw.githubusercontent.com/cmourlas/DataAnalysisPython/master/lexicons/greek_sentiment_lexicon.tsv',sep='\\t')\n",
        "df = df.fillna('N/A')"
      ],
      "execution_count": 0,
      "outputs": []
    },
    {
      "cell_type": "code",
      "metadata": {
        "id": "j1xb-Lo0r_-d",
        "colab_type": "code",
        "colab": {}
      },
      "source": [
        "df.head()"
      ],
      "execution_count": 0,
      "outputs": []
    },
    {
      "cell_type": "code",
      "metadata": {
        "id": "Cm8nYW-IKQgZ",
        "colab_type": "code",
        "colab": {}
      },
      "source": [
        "df.tail(20)"
      ],
      "execution_count": 0,
      "outputs": []
    },
    {
      "cell_type": "code",
      "metadata": {
        "id": "pWNIPPMVXGBC",
        "colab_type": "code",
        "colab": {}
      },
      "source": [
        "df.columns"
      ],
      "execution_count": 0,
      "outputs": []
    },
    {
      "cell_type": "code",
      "metadata": {
        "id": "h6zu6AEfWsxD",
        "colab_type": "code",
        "colab": {}
      },
      "source": [
        "df[df.Term.str.contains(\"καλό\")]"
      ],
      "execution_count": 0,
      "outputs": []
    },
    {
      "cell_type": "code",
      "metadata": {
        "id": "hCnzRVaoLAKk",
        "colab_type": "code",
        "colab": {}
      },
      "source": [
        ""
      ],
      "execution_count": 0,
      "outputs": []
    },
    {
      "cell_type": "code",
      "metadata": {
        "id": "8fMh0HMNsAWl",
        "colab_type": "code",
        "colab": {}
      },
      "source": [
        "for index, row in df.iterrows():\n",
        "    df.at[index, \"Term\"] = row[\"Term\"].split(' ')[0]\n",
        "    indexes[df.at[index, \"Term\"]] = index"
      ],
      "execution_count": 0,
      "outputs": []
    },
    {
      "cell_type": "code",
      "metadata": {
        "id": "x-s679ZqR4MD",
        "colab_type": "code",
        "colab": {}
      },
      "source": [
        "text = '''Έχω μείνει έκπληκτος! Πώς γίνεται αυτό; Η έκπληξη είναι τόσο μεγάλη! Α, τώρα εξηγούνται όλα.'''\n"
      ],
      "execution_count": 0,
      "outputs": []
    },
    {
      "cell_type": "code",
      "metadata": {
        "id": "rHbOdAhgsMO2",
        "colab_type": "code",
        "colab": {}
      },
      "source": [
        "subj_scores = {\n",
        "    'OBJ': 0,\n",
        "    'SUBJ-': 0.5,\n",
        "    'SUBJ+': 1,\n",
        "}\n",
        "\n",
        "emotion_scores = {\n",
        "    'N/A': 0,\n",
        "    '1.0': 0.2,\n",
        "    '2.0': 0.4,\n",
        "    '3.0': 0.6,\n",
        "    '4.0': 0.8,\n",
        "    '5.0': 1,\n",
        "}\n",
        "\n",
        "polarity_scores = {\n",
        "    'N/A': 0,\n",
        "    'BOTH': 0,\n",
        "    'NEG': -1,\n",
        "    'POS': 1\n",
        "}\n"
      ],
      "execution_count": 0,
      "outputs": []
    },
    {
      "cell_type": "code",
      "metadata": {
        "id": "NRl3sWZYsMSl",
        "colab_type": "code",
        "colab": {}
      },
      "source": [
        "nlp = spacy.load('el_core_news_md')\n",
        "doc = nlp(text)"
      ],
      "execution_count": 0,
      "outputs": []
    },
    {
      "cell_type": "code",
      "metadata": {
        "id": "da_Vj4olC1cc",
        "colab_type": "code",
        "colab": {}
      },
      "source": [
        "subjectivity_score = 0\n",
        "anger_score = 0\n",
        "disgust_score = 0\n",
        "fear_score =  0\n",
        "happiness_score = 0\n",
        "sadness_score = 0\n",
        "surprise_score = 0\n",
        "polarity_score = 0\n",
        "matched_tokens = 0\n",
        "for token in doc:\n",
        "    lemmatized_token = token.lemma_\n",
        "    if (lemmatized_token in indexes):\n",
        "        indx = indexes[lemmatized_token]\n",
        "        pos_flag = False\n",
        "        for col in [\"POS1\", \"POS2\", \"POS3\", \"POS4\"]:\n",
        "            if (token.pos_ == df.at[indx,col]):\n",
        "                pos_flag = True\n",
        "                break\n",
        "        if (pos_flag == True):\n",
        "            match_col_index = [int(s) for s in col if s.isdigit()][0]\n",
        "            subjectivity_score += subj_scores[df.at[indx,'Subjectivity'+str(match_col_index)]]\n",
        "            anger_score += emotion_scores[str(df.at[indx, 'Anger'+str(match_col_index)])]\n",
        "            disgust_score += emotion_scores[str(df.at[indx, 'Disgust'+str(match_col_index)])]\n",
        "            fear_score += emotion_scores[str(df.at[indx, 'Fear'+str(match_col_index)])]\n",
        "            happiness_score += emotion_scores[str(df.at[indx, 'Happiness'+str(match_col_index)])]\n",
        "            sadness_score += emotion_scores[str(df.at[indx,'Sadness'+str(match_col_index)])]\n",
        "            surprise_score += emotion_scores[str(df.at[indx, 'Surprise'+str(match_col_index)])]\n",
        "            polarity_score += polarity_scores[str(df.at[indx, 'Polarity'+str(match_col_index)])]\n",
        "            matched_tokens+=1\n",
        "\n"
      ],
      "execution_count": 0,
      "outputs": []
    },
    {
      "cell_type": "code",
      "metadata": {
        "id": "_nl16sIvOh-m",
        "colab_type": "code",
        "colab": {}
      },
      "source": [
        "try:\n",
        "    print('Subjectivity: ' + str(subjectivity_score/matched_tokens * 100)+'%')\n",
        "    emotions = {'anger': anger_score, 'disgust': disgust_score, 'fear':fear_score, 'happiness':happiness_score, 'sadness': sadness_score, 'surprise': surprise_score}\n",
        "    emotion = max(emotions.items(), key=operator.itemgetter(1))[0]\n",
        "    if (emotions[emotion] == 0):\n",
        "        print('Unable to detect emotion')\n",
        "    else:\n",
        "        print('Main emotion: ' + emotion + '. Emotion score: ' + str(emotions[emotion]*100/matched_tokens) + '%')\n",
        "        print('Polarity: ', polarity_score)\n",
        "except:\n",
        "    print('No matched tokens')"
      ],
      "execution_count": 0,
      "outputs": []
    },
    {
      "cell_type": "code",
      "metadata": {
        "id": "QhmYz2j6C1dE",
        "colab_type": "code",
        "colab": {}
      },
      "source": [
        ""
      ],
      "execution_count": 0,
      "outputs": []
    }
  ]
}