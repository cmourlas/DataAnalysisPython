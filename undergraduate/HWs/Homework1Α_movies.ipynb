{
  "nbformat": 4,
  "nbformat_minor": 0,
  "metadata": {
    "kernelspec": {
      "display_name": "Python 3",
      "language": "python",
      "name": "python3"
    },
    "language_info": {
      "codemirror_mode": {
        "name": "ipython",
        "version": 3
      },
      "file_extension": ".py",
      "mimetype": "text/x-python",
      "name": "python",
      "nbconvert_exporter": "python",
      "pygments_lexer": "ipython3",
      "version": "3.6.7"
    },
    "colab": {
      "name": "Homework1Α_movies.ipynb",
      "provenance": [],
      "collapsed_sections": []
    }
  },
  "cells": [
    {
      "cell_type": "markdown",
      "metadata": {
        "id": "zM1lFlZCbShJ",
        "colab_type": "text"
      },
      "source": [
        "# Έχουμε ένα αρχείο .csv το οποίο περιέχει τις καλύτερες 1000 ταινίες του IMDB και θα χρησιμοποιήσουμε αυτά τα δεδομένα για να οπτικοποιήσουμε και να πραγματοποιήσουμε κάποιες αναλύσεις σε αυτ'α χρησιμοποιώντας την Python και τη βιβλιοθήκη των Pandas που μάθαμε πρόσφατα.\n",
        "\n",
        "\n",
        "\n",
        "Θα χρησιμοποιήσουμε τη μορφή Jupyter Notebook που μας παρέχει το περιβάλλον Collab της Google, για να φτιάξουμε τον κώδικά μας. Το πρώτο πράγμα είναι κάνουμε εισαγωγή (import) τις βιβλιοθήκες μας Pandas και Matplot. Pandas για τα dataframes και την ανάλυσή μας και τη Matplot για την οπτικοποίησή μας.\n"
      ]
    },
    {
      "cell_type": "code",
      "metadata": {
        "id": "iuxpQpkQbShN",
        "colab_type": "code",
        "colab": {}
      },
      "source": [
        "import pandas as pd\n",
        "import matplotlib.pyplot as plt"
      ],
      "execution_count": 0,
      "outputs": []
    },
    {
      "cell_type": "markdown",
      "metadata": {
        "id": "cYiwYf-6c8ZD",
        "colab_type": "text"
      },
      "source": [
        "Εισάγουμε τα δεδομένα μας από έναν λογαριασμό στο github"
      ]
    },
    {
      "cell_type": "code",
      "metadata": {
        "id": "AOiAOMcLbShi",
        "colab_type": "code",
        "colab": {}
      },
      "source": [
        "movies  = pd.read_csv(\"https://raw.githubusercontent.com/thechaudharysab/imdb-data-pandas-visualization/master/data/imdb_1000.csv\")"
      ],
      "execution_count": 0,
      "outputs": []
    },
    {
      "cell_type": "code",
      "metadata": {
        "id": "GXfF4LzobSh4",
        "colab_type": "code",
        "colab": {
          "base_uri": "https://localhost:8080/",
          "height": 293
        },
        "outputId": "bb4d04dc-b6b8-43fc-a0ab-5a612f8408f1"
      },
      "source": [
        "movies.head() #βλέπουμε τις 5 πρώτες γραμμές των δεδομένων μας"
      ],
      "execution_count": 5,
      "outputs": [
        {
          "output_type": "execute_result",
          "data": {
            "text/html": [
              "<div>\n",
              "<style scoped>\n",
              "    .dataframe tbody tr th:only-of-type {\n",
              "        vertical-align: middle;\n",
              "    }\n",
              "\n",
              "    .dataframe tbody tr th {\n",
              "        vertical-align: top;\n",
              "    }\n",
              "\n",
              "    .dataframe thead th {\n",
              "        text-align: right;\n",
              "    }\n",
              "</style>\n",
              "<table border=\"1\" class=\"dataframe\">\n",
              "  <thead>\n",
              "    <tr style=\"text-align: right;\">\n",
              "      <th></th>\n",
              "      <th>star_rating</th>\n",
              "      <th>title</th>\n",
              "      <th>content_rating</th>\n",
              "      <th>genre</th>\n",
              "      <th>duration</th>\n",
              "      <th>actors_list</th>\n",
              "    </tr>\n",
              "  </thead>\n",
              "  <tbody>\n",
              "    <tr>\n",
              "      <th>0</th>\n",
              "      <td>9.3</td>\n",
              "      <td>The Shawshank Redemption</td>\n",
              "      <td>R</td>\n",
              "      <td>Crime</td>\n",
              "      <td>142</td>\n",
              "      <td>[u'Tim Robbins', u'Morgan Freeman', u'Bob Gunt...</td>\n",
              "    </tr>\n",
              "    <tr>\n",
              "      <th>1</th>\n",
              "      <td>9.2</td>\n",
              "      <td>The Godfather</td>\n",
              "      <td>R</td>\n",
              "      <td>Crime</td>\n",
              "      <td>175</td>\n",
              "      <td>[u'Marlon Brando', u'Al Pacino', u'James Caan']</td>\n",
              "    </tr>\n",
              "    <tr>\n",
              "      <th>2</th>\n",
              "      <td>9.1</td>\n",
              "      <td>The Godfather: Part II</td>\n",
              "      <td>R</td>\n",
              "      <td>Crime</td>\n",
              "      <td>200</td>\n",
              "      <td>[u'Al Pacino', u'Robert De Niro', u'Robert Duv...</td>\n",
              "    </tr>\n",
              "    <tr>\n",
              "      <th>3</th>\n",
              "      <td>9.0</td>\n",
              "      <td>The Dark Knight</td>\n",
              "      <td>PG-13</td>\n",
              "      <td>Action</td>\n",
              "      <td>152</td>\n",
              "      <td>[u'Christian Bale', u'Heath Ledger', u'Aaron E...</td>\n",
              "    </tr>\n",
              "    <tr>\n",
              "      <th>4</th>\n",
              "      <td>8.9</td>\n",
              "      <td>Pulp Fiction</td>\n",
              "      <td>R</td>\n",
              "      <td>Crime</td>\n",
              "      <td>154</td>\n",
              "      <td>[u'John Travolta', u'Uma Thurman', u'Samuel L....</td>\n",
              "    </tr>\n",
              "  </tbody>\n",
              "</table>\n",
              "</div>"
            ],
            "text/plain": [
              "   star_rating  ...                                        actors_list\n",
              "0          9.3  ...  [u'Tim Robbins', u'Morgan Freeman', u'Bob Gunt...\n",
              "1          9.2  ...    [u'Marlon Brando', u'Al Pacino', u'James Caan']\n",
              "2          9.1  ...  [u'Al Pacino', u'Robert De Niro', u'Robert Duv...\n",
              "3          9.0  ...  [u'Christian Bale', u'Heath Ledger', u'Aaron E...\n",
              "4          8.9  ...  [u'John Travolta', u'Uma Thurman', u'Samuel L....\n",
              "\n",
              "[5 rows x 6 columns]"
            ]
          },
          "metadata": {
            "tags": []
          },
          "execution_count": 5
        }
      ]
    },
    {
      "cell_type": "code",
      "metadata": {
        "id": "NB0xY9ukbSiH",
        "colab_type": "code",
        "colab": {
          "base_uri": "https://localhost:8080/",
          "height": 35
        },
        "outputId": "7393a653-7006-4dff-918a-f03a10fe7b54"
      },
      "source": [
        "# Ελέγχουμε τις γραμμές και τις στήλες του πίνακά μας (του dataframe ορθότερα) \n",
        "movies.shape\n"
      ],
      "execution_count": 6,
      "outputs": [
        {
          "output_type": "execute_result",
          "data": {
            "text/plain": [
              "(979, 6)"
            ]
          },
          "metadata": {
            "tags": []
          },
          "execution_count": 6
        }
      ]
    },
    {
      "cell_type": "code",
      "metadata": {
        "id": "1yyEYx7obSie",
        "colab_type": "code",
        "colab": {
          "base_uri": "https://localhost:8080/",
          "height": 146
        },
        "outputId": "77a10262-bea8-4f4e-d768-79a27308ca7f"
      },
      "source": [
        "# Ελέγχουμε τον τύπο δεδομένων της κάθε στήλης\n",
        "movies.dtypes"
      ],
      "execution_count": 7,
      "outputs": [
        {
          "output_type": "execute_result",
          "data": {
            "text/plain": [
              "star_rating       float64\n",
              "title              object\n",
              "content_rating     object\n",
              "genre              object\n",
              "duration            int64\n",
              "actors_list        object\n",
              "dtype: object"
            ]
          },
          "metadata": {
            "tags": []
          },
          "execution_count": 7
        }
      ]
    },
    {
      "cell_type": "code",
      "metadata": {
        "id": "0k1wRiMMbSiq",
        "colab_type": "code",
        "colab": {}
      },
      "source": [
        ""
      ],
      "execution_count": 0,
      "outputs": []
    },
    {
      "cell_type": "code",
      "metadata": {
        "id": "5x7TMCVMbSi1",
        "colab_type": "code",
        "colab": {
          "base_uri": "https://localhost:8080/",
          "height": 35
        },
        "outputId": "e1a2be96-3f38-4028-c7a6-2799fc7c6da2"
      },
      "source": [
        "# υπολογίζουμε τη μέση διάρκεια όλων των ταινιών\n",
        "\n",
        "movies['duration'].mean()"
      ],
      "execution_count": 8,
      "outputs": [
        {
          "output_type": "execute_result",
          "data": {
            "text/plain": [
              "120.97957099080695"
            ]
          },
          "metadata": {
            "tags": []
          },
          "execution_count": 8
        }
      ]
    },
    {
      "cell_type": "code",
      "metadata": {
        "id": "QaR5SZk0bSi9",
        "colab_type": "code",
        "colab": {
          "base_uri": "https://localhost:8080/",
          "height": 597
        },
        "outputId": "2354d694-76a8-4fee-fdf5-4a3a120d8ccc"
      },
      "source": [
        "# ταξινομούμε το DataFrame ως προς τη διάρκεια για να βρούμε τη μικρότερη και τη μεγαλύτερη σε διάρκεια ταινία\n",
        "\n",
        "movies.sort_values('duration')"
      ],
      "execution_count": 9,
      "outputs": [
        {
          "output_type": "execute_result",
          "data": {
            "text/html": [
              "<div>\n",
              "<style scoped>\n",
              "    .dataframe tbody tr th:only-of-type {\n",
              "        vertical-align: middle;\n",
              "    }\n",
              "\n",
              "    .dataframe tbody tr th {\n",
              "        vertical-align: top;\n",
              "    }\n",
              "\n",
              "    .dataframe thead th {\n",
              "        text-align: right;\n",
              "    }\n",
              "</style>\n",
              "<table border=\"1\" class=\"dataframe\">\n",
              "  <thead>\n",
              "    <tr style=\"text-align: right;\">\n",
              "      <th></th>\n",
              "      <th>star_rating</th>\n",
              "      <th>title</th>\n",
              "      <th>content_rating</th>\n",
              "      <th>genre</th>\n",
              "      <th>duration</th>\n",
              "      <th>actors_list</th>\n",
              "    </tr>\n",
              "  </thead>\n",
              "  <tbody>\n",
              "    <tr>\n",
              "      <th>389</th>\n",
              "      <td>8.0</td>\n",
              "      <td>Freaks</td>\n",
              "      <td>UNRATED</td>\n",
              "      <td>Drama</td>\n",
              "      <td>64</td>\n",
              "      <td>[u'Wallace Ford', u'Leila Hyams', u'Olga Bacla...</td>\n",
              "    </tr>\n",
              "    <tr>\n",
              "      <th>338</th>\n",
              "      <td>8.0</td>\n",
              "      <td>Battleship Potemkin</td>\n",
              "      <td>UNRATED</td>\n",
              "      <td>History</td>\n",
              "      <td>66</td>\n",
              "      <td>[u'Aleksandr Antonov', u'Vladimir Barsky', u'G...</td>\n",
              "    </tr>\n",
              "    <tr>\n",
              "      <th>258</th>\n",
              "      <td>8.1</td>\n",
              "      <td>The Cabinet of Dr. Caligari</td>\n",
              "      <td>UNRATED</td>\n",
              "      <td>Crime</td>\n",
              "      <td>67</td>\n",
              "      <td>[u'Werner Krauss', u'Conrad Veidt', u'Friedric...</td>\n",
              "    </tr>\n",
              "    <tr>\n",
              "      <th>293</th>\n",
              "      <td>8.1</td>\n",
              "      <td>Duck Soup</td>\n",
              "      <td>PASSED</td>\n",
              "      <td>Comedy</td>\n",
              "      <td>68</td>\n",
              "      <td>[u'Groucho Marx', u'Harpo Marx', u'Chico Marx']</td>\n",
              "    </tr>\n",
              "    <tr>\n",
              "      <th>88</th>\n",
              "      <td>8.4</td>\n",
              "      <td>The Kid</td>\n",
              "      <td>NOT RATED</td>\n",
              "      <td>Comedy</td>\n",
              "      <td>68</td>\n",
              "      <td>[u'Charles Chaplin', u'Edna Purviance', u'Jack...</td>\n",
              "    </tr>\n",
              "    <tr>\n",
              "      <th>...</th>\n",
              "      <td>...</td>\n",
              "      <td>...</td>\n",
              "      <td>...</td>\n",
              "      <td>...</td>\n",
              "      <td>...</td>\n",
              "      <td>...</td>\n",
              "    </tr>\n",
              "    <tr>\n",
              "      <th>445</th>\n",
              "      <td>7.9</td>\n",
              "      <td>The Ten Commandments</td>\n",
              "      <td>APPROVED</td>\n",
              "      <td>Adventure</td>\n",
              "      <td>220</td>\n",
              "      <td>[u'Charlton Heston', u'Yul Brynner', u'Anne Ba...</td>\n",
              "    </tr>\n",
              "    <tr>\n",
              "      <th>142</th>\n",
              "      <td>8.3</td>\n",
              "      <td>Lagaan: Once Upon a Time in India</td>\n",
              "      <td>PG</td>\n",
              "      <td>Adventure</td>\n",
              "      <td>224</td>\n",
              "      <td>[u'Aamir Khan', u'Gracy Singh', u'Rachel Shell...</td>\n",
              "    </tr>\n",
              "    <tr>\n",
              "      <th>78</th>\n",
              "      <td>8.4</td>\n",
              "      <td>Once Upon a Time in America</td>\n",
              "      <td>R</td>\n",
              "      <td>Crime</td>\n",
              "      <td>229</td>\n",
              "      <td>[u'Robert De Niro', u'James Woods', u'Elizabet...</td>\n",
              "    </tr>\n",
              "    <tr>\n",
              "      <th>157</th>\n",
              "      <td>8.2</td>\n",
              "      <td>Gone with the Wind</td>\n",
              "      <td>G</td>\n",
              "      <td>Drama</td>\n",
              "      <td>238</td>\n",
              "      <td>[u'Clark Gable', u'Vivien Leigh', u'Thomas Mit...</td>\n",
              "    </tr>\n",
              "    <tr>\n",
              "      <th>476</th>\n",
              "      <td>7.8</td>\n",
              "      <td>Hamlet</td>\n",
              "      <td>PG-13</td>\n",
              "      <td>Drama</td>\n",
              "      <td>242</td>\n",
              "      <td>[u'Kenneth Branagh', u'Julie Christie', u'Dere...</td>\n",
              "    </tr>\n",
              "  </tbody>\n",
              "</table>\n",
              "<p>979 rows × 6 columns</p>\n",
              "</div>"
            ],
            "text/plain": [
              "     star_rating  ...                                        actors_list\n",
              "389          8.0  ...  [u'Wallace Ford', u'Leila Hyams', u'Olga Bacla...\n",
              "338          8.0  ...  [u'Aleksandr Antonov', u'Vladimir Barsky', u'G...\n",
              "258          8.1  ...  [u'Werner Krauss', u'Conrad Veidt', u'Friedric...\n",
              "293          8.1  ...    [u'Groucho Marx', u'Harpo Marx', u'Chico Marx']\n",
              "88           8.4  ...  [u'Charles Chaplin', u'Edna Purviance', u'Jack...\n",
              "..           ...  ...                                                ...\n",
              "445          7.9  ...  [u'Charlton Heston', u'Yul Brynner', u'Anne Ba...\n",
              "142          8.3  ...  [u'Aamir Khan', u'Gracy Singh', u'Rachel Shell...\n",
              "78           8.4  ...  [u'Robert De Niro', u'James Woods', u'Elizabet...\n",
              "157          8.2  ...  [u'Clark Gable', u'Vivien Leigh', u'Thomas Mit...\n",
              "476          7.8  ...  [u'Kenneth Branagh', u'Julie Christie', u'Dere...\n",
              "\n",
              "[979 rows x 6 columns]"
            ]
          },
          "metadata": {
            "tags": []
          },
          "execution_count": 9
        }
      ]
    },
    {
      "cell_type": "code",
      "metadata": {
        "id": "0jugxD0feLPK",
        "colab_type": "code",
        "colab": {
          "base_uri": "https://localhost:8080/",
          "height": 80
        },
        "outputId": "46729c4e-8c19-42ca-818c-796c26efc1a4"
      },
      "source": [
        "# Η πιο μικρή σε διάρκεια ταινία\n",
        "\n",
        "movies.sort_values('duration', ascending = True).head(1)"
      ],
      "execution_count": 12,
      "outputs": [
        {
          "output_type": "execute_result",
          "data": {
            "text/html": [
              "<div>\n",
              "<style scoped>\n",
              "    .dataframe tbody tr th:only-of-type {\n",
              "        vertical-align: middle;\n",
              "    }\n",
              "\n",
              "    .dataframe tbody tr th {\n",
              "        vertical-align: top;\n",
              "    }\n",
              "\n",
              "    .dataframe thead th {\n",
              "        text-align: right;\n",
              "    }\n",
              "</style>\n",
              "<table border=\"1\" class=\"dataframe\">\n",
              "  <thead>\n",
              "    <tr style=\"text-align: right;\">\n",
              "      <th></th>\n",
              "      <th>star_rating</th>\n",
              "      <th>title</th>\n",
              "      <th>content_rating</th>\n",
              "      <th>genre</th>\n",
              "      <th>duration</th>\n",
              "      <th>actors_list</th>\n",
              "    </tr>\n",
              "  </thead>\n",
              "  <tbody>\n",
              "    <tr>\n",
              "      <th>389</th>\n",
              "      <td>8.0</td>\n",
              "      <td>Freaks</td>\n",
              "      <td>UNRATED</td>\n",
              "      <td>Drama</td>\n",
              "      <td>64</td>\n",
              "      <td>[u'Wallace Ford', u'Leila Hyams', u'Olga Bacla...</td>\n",
              "    </tr>\n",
              "  </tbody>\n",
              "</table>\n",
              "</div>"
            ],
            "text/plain": [
              "     star_rating  ...                                        actors_list\n",
              "389          8.0  ...  [u'Wallace Ford', u'Leila Hyams', u'Olga Bacla...\n",
              "\n",
              "[1 rows x 6 columns]"
            ]
          },
          "metadata": {
            "tags": []
          },
          "execution_count": 12
        }
      ]
    },
    {
      "cell_type": "code",
      "metadata": {
        "id": "l4pgKz7ceQy8",
        "colab_type": "code",
        "colab": {
          "base_uri": "https://localhost:8080/",
          "height": 80
        },
        "outputId": "2848ed37-7c43-49c3-da2d-9ccd97901c16"
      },
      "source": [
        "# Η πιο μεγάλη σε διάρκεια ταινία\n",
        "\n",
        "movies.sort_values('duration',ascending = False).head(1)"
      ],
      "execution_count": 15,
      "outputs": [
        {
          "output_type": "execute_result",
          "data": {
            "text/html": [
              "<div>\n",
              "<style scoped>\n",
              "    .dataframe tbody tr th:only-of-type {\n",
              "        vertical-align: middle;\n",
              "    }\n",
              "\n",
              "    .dataframe tbody tr th {\n",
              "        vertical-align: top;\n",
              "    }\n",
              "\n",
              "    .dataframe thead th {\n",
              "        text-align: right;\n",
              "    }\n",
              "</style>\n",
              "<table border=\"1\" class=\"dataframe\">\n",
              "  <thead>\n",
              "    <tr style=\"text-align: right;\">\n",
              "      <th></th>\n",
              "      <th>star_rating</th>\n",
              "      <th>title</th>\n",
              "      <th>content_rating</th>\n",
              "      <th>genre</th>\n",
              "      <th>duration</th>\n",
              "      <th>actors_list</th>\n",
              "    </tr>\n",
              "  </thead>\n",
              "  <tbody>\n",
              "    <tr>\n",
              "      <th>476</th>\n",
              "      <td>7.8</td>\n",
              "      <td>Hamlet</td>\n",
              "      <td>PG-13</td>\n",
              "      <td>Drama</td>\n",
              "      <td>242</td>\n",
              "      <td>[u'Kenneth Branagh', u'Julie Christie', u'Dere...</td>\n",
              "    </tr>\n",
              "  </tbody>\n",
              "</table>\n",
              "</div>"
            ],
            "text/plain": [
              "     star_rating  ...                                        actors_list\n",
              "476          7.8  ...  [u'Kenneth Branagh', u'Julie Christie', u'Dere...\n",
              "\n",
              "[1 rows x 6 columns]"
            ]
          },
          "metadata": {
            "tags": []
          },
          "execution_count": 15
        }
      ]
    },
    {
      "cell_type": "code",
      "metadata": {
        "id": "jXiIWIYgbSjG",
        "colab_type": "code",
        "colab": {
          "base_uri": "https://localhost:8080/",
          "height": 283
        },
        "outputId": "a9c47f57-4792-4fac-d93a-541be58f6e5b"
      },
      "source": [
        "# δημιουργούμε ένα ιστόγραμμα με τις συχνότητες των ταινιών σε διάρκεια, επιλέγοντας έναν “κατάλληλο” αριθμό bins (ομάδων)\n",
        "\n",
        "movies['duration'].plot(kind='hist', bins=10)"
      ],
      "execution_count": 16,
      "outputs": [
        {
          "output_type": "execute_result",
          "data": {
            "text/plain": [
              "<matplotlib.axes._subplots.AxesSubplot at 0x7f728ea21fd0>"
            ]
          },
          "metadata": {
            "tags": []
          },
          "execution_count": 16
        },
        {
          "output_type": "display_data",
          "data": {
            "image/png": "[encoded data removed]",
            "text/plain": [
              "<Figure size 432x288 with 1 Axes>"
            ]
          },
          "metadata": {
            "tags": [],
            "needs_background": "light"
          }
        }
      ]
    },
    {
      "cell_type": "markdown",
      "metadata": {
        "id": "u8BxmDqcbSjQ",
        "colab_type": "text"
      },
      "source": [
        "Αυτό είναι ένα από τα πλεονεκτήματα της χρήσης της οπτικοποίησης για δεδομένα έτσι ώστε εύκολα να διαπιστώσεις διαφοροποιήσεις στα δεδομένα.\n",
        "Υπάρχουν πολλοί τρόποι οπτικοποίησης που μπορείς να χρησιμοποιήσεις. Εξαρτάται από τον τύπο δεδομένων καθώς μπορεί ένα ιστόγραμμα να μην είναι πάντα κατάλληλο ως είδος διαγράμματος και να μην ταιριάζει για τν ανάλυση που ζητάς.\n"
      ]
    },
    {
      "cell_type": "code",
      "metadata": {
        "id": "kLFuQ6WgbSjS",
        "colab_type": "code",
        "colab": {
          "base_uri": "https://localhost:8080/",
          "height": 286
        },
        "outputId": "1c61d1f3-4ee4-4b8a-8e5d-dc2ac4d930a5"
      },
      "source": [
        "# χρησιμοποίησε ένα box διάγραμμα για την παρουσίαση των ίδιων δεδομένων...\n",
        " \n",
        " movies['duration'].plot(kind='box')"
      ],
      "execution_count": 17,
      "outputs": [
        {
          "output_type": "execute_result",
          "data": {
            "text/plain": [
              "<matplotlib.axes._subplots.AxesSubplot at 0x7f728ea21ba8>"
            ]
          },
          "metadata": {
            "tags": []
          },
          "execution_count": 17
        },
        {
          "output_type": "display_data",
          "data": {
            "image/png": "[encoded data removed]",
            "text/plain": [
              "<Figure size 432x288 with 1 Axes>"
            ]
          },
          "metadata": {
            "tags": [],
            "needs_background": "light"
          }
        }
      ]
    },
    {
      "cell_type": "markdown",
      "metadata": {
        "id": "hQbtaGTRbSjh",
        "colab_type": "text"
      },
      "source": [
        "Το παραπάνω διάγραμμα τύπου box  μας δίνει την ίδια πληροφορία δλδ ότι οι περισσότερες ταινίες διαρκούν μεταξύ 110 και 135 και επίσης έχουμε μία διάμεσο (median). Ενώ, με το ιστόγραμμα δεν μπορούμε να έχουμε καθαρά την διάμεσο τιμή. \n",
        "\n",
        "Ας συνεχίσουμε τους πειραματισμούς στις αναλύσεις και τις οπτικοποιήσεις κάνοντας χρήση των pandas.\n"
      ]
    },
    {
      "cell_type": "code",
      "metadata": {
        "id": "JSbBngqFbSjj",
        "colab_type": "code",
        "colab": {
          "base_uri": "https://localhost:8080/",
          "height": 457
        },
        "outputId": "498a8783-70d3-43f0-83c4-1a675eb5b11b"
      },
      "source": [
        "# Ας μετρήσουμε πόσες ταινίες έχουν καθεμία από τις βαθμολογίες περιεχομένου (content ratings)\n",
        "movies[['content_rating','title']].groupby('content_rating').count()"
      ],
      "execution_count": 18,
      "outputs": [
        {
          "output_type": "execute_result",
          "data": {
            "text/html": [
              "<div>\n",
              "<style scoped>\n",
              "    .dataframe tbody tr th:only-of-type {\n",
              "        vertical-align: middle;\n",
              "    }\n",
              "\n",
              "    .dataframe tbody tr th {\n",
              "        vertical-align: top;\n",
              "    }\n",
              "\n",
              "    .dataframe thead th {\n",
              "        text-align: right;\n",
              "    }\n",
              "</style>\n",
              "<table border=\"1\" class=\"dataframe\">\n",
              "  <thead>\n",
              "    <tr style=\"text-align: right;\">\n",
              "      <th></th>\n",
              "      <th>title</th>\n",
              "    </tr>\n",
              "    <tr>\n",
              "      <th>content_rating</th>\n",
              "      <th></th>\n",
              "    </tr>\n",
              "  </thead>\n",
              "  <tbody>\n",
              "    <tr>\n",
              "      <th>APPROVED</th>\n",
              "      <td>47</td>\n",
              "    </tr>\n",
              "    <tr>\n",
              "      <th>G</th>\n",
              "      <td>32</td>\n",
              "    </tr>\n",
              "    <tr>\n",
              "      <th>GP</th>\n",
              "      <td>3</td>\n",
              "    </tr>\n",
              "    <tr>\n",
              "      <th>NC-17</th>\n",
              "      <td>7</td>\n",
              "    </tr>\n",
              "    <tr>\n",
              "      <th>NOT RATED</th>\n",
              "      <td>65</td>\n",
              "    </tr>\n",
              "    <tr>\n",
              "      <th>PASSED</th>\n",
              "      <td>7</td>\n",
              "    </tr>\n",
              "    <tr>\n",
              "      <th>PG</th>\n",
              "      <td>123</td>\n",
              "    </tr>\n",
              "    <tr>\n",
              "      <th>PG-13</th>\n",
              "      <td>189</td>\n",
              "    </tr>\n",
              "    <tr>\n",
              "      <th>R</th>\n",
              "      <td>460</td>\n",
              "    </tr>\n",
              "    <tr>\n",
              "      <th>TV-MA</th>\n",
              "      <td>1</td>\n",
              "    </tr>\n",
              "    <tr>\n",
              "      <th>UNRATED</th>\n",
              "      <td>38</td>\n",
              "    </tr>\n",
              "    <tr>\n",
              "      <th>X</th>\n",
              "      <td>4</td>\n",
              "    </tr>\n",
              "  </tbody>\n",
              "</table>\n",
              "</div>"
            ],
            "text/plain": [
              "                title\n",
              "content_rating       \n",
              "APPROVED           47\n",
              "G                  32\n",
              "GP                  3\n",
              "NC-17               7\n",
              "NOT RATED          65\n",
              "PASSED              7\n",
              "PG                123\n",
              "PG-13             189\n",
              "R                 460\n",
              "TV-MA               1\n",
              "UNRATED            38\n",
              "X                   4"
            ]
          },
          "metadata": {
            "tags": []
          },
          "execution_count": 18
        }
      ]
    },
    {
      "cell_type": "markdown",
      "metadata": {
        "id": "a9ErU0MrbSjs",
        "colab_type": "text"
      },
      "source": [
        "Ας δούμε διαγραμματικά την παραπάνω πληροφορίες...\n",
        " "
      ]
    },
    {
      "cell_type": "code",
      "metadata": {
        "id": "ap8SXZsjbSjt",
        "colab_type": "code",
        "colab": {
          "base_uri": "https://localhost:8080/",
          "height": 360
        },
        "outputId": "98f55052-0fa7-40e7-ebd9-d82130552b83"
      },
      "source": [
        "# Ας χρησιμοποιήσουμε ένα διάγραμμα τύπου στήλης (bar diagram) για να παρουσιάσουμε τα αποτελέσματα, \n",
        "# συμπεριλαμβανομένων  και των τίτλων του άξονα x και y...\n",
        "movies[['content_rating','title']].groupby('content_rating').count().plot(kind='bar', title='Content Rating Visualization')\n",
        "plt.xlabel('Content Rating')\n",
        "plt.ylabel('Title Count')"
      ],
      "execution_count": 19,
      "outputs": [
        {
          "output_type": "execute_result",
          "data": {
            "text/plain": [
              "Text(0, 0.5, 'Title Count')"
            ]
          },
          "metadata": {
            "tags": []
          },
          "execution_count": 19
        },
        {
          "output_type": "display_data",
          "data": {
            "image/png": "[encoded data removed]",
            "text/plain": [
              "<Figure size 432x288 with 1 Axes>"
            ]
          },
          "metadata": {
            "tags": [],
            "needs_background": "light"
          }
        }
      ]
    },
    {
      "cell_type": "markdown",
      "metadata": {
        "id": "DAX1pssLbSj4",
        "colab_type": "text"
      },
      "source": [
        "# Παρακάτω έχουμε περισσότερες αναλύσεις πάνω στα δεδομένα μας...\n"
      ]
    },
    {
      "cell_type": "code",
      "metadata": {
        "id": "zwB58KrubSj5",
        "colab_type": "code",
        "colab": {
          "base_uri": "https://localhost:8080/",
          "height": 128
        },
        "outputId": "658da3b3-1454-4af9-e5ea-6ecc6921545d"
      },
      "source": [
        "# μετατράπουμε τις βαθμολογίες τύπου  X και  TV-MA σε “NC-17”: \n",
        "movies['content_rating'].replace(['X','TV-MA'],'NC-17').head()"
      ],
      "execution_count": 20,
      "outputs": [
        {
          "output_type": "execute_result",
          "data": {
            "text/plain": [
              "0        R\n",
              "1        R\n",
              "2        R\n",
              "3    PG-13\n",
              "4        R\n",
              "Name: content_rating, dtype: object"
            ]
          },
          "metadata": {
            "tags": []
          },
          "execution_count": 20
        }
      ]
    },
    {
      "cell_type": "markdown",
      "metadata": {
        "id": "A3IpfCLMbSkA",
        "colab_type": "text"
      },
      "source": [
        "# Ερευνούμε αν στα δεδομένα μας υπάρχουν τιμές που λείπουν (missing value(s))"
      ]
    },
    {
      "cell_type": "code",
      "metadata": {
        "id": "5V_l-rMlbSkK",
        "colab_type": "code",
        "colab": {}
      },
      "source": [
        "# Ας μετρήσουμε τις τιμές που λείπουν σε κάθε στ'ηλη\n",
        "movies.isnull().sum(axis=0)\n",
        "# Αν υπαρχουν ας τις εξετάσουμε και ας τις συμπληρώσουμε με μια κατάλληλη τιμή\n",
        "movies[movies['content_rating'].isnull()]\n",
        "movies.at[(187,649),'content_rating'] = 'PG'\n",
        "movies.at[936,'content_rating'] = 'PG-13'"
      ],
      "execution_count": 0,
      "outputs": []
    },
    {
      "cell_type": "markdown",
      "metadata": {
        "id": "-fdfCRAXbSkR",
        "colab_type": "text"
      },
      "source": [
        "Μπορούμε επίσης να επιλέξουμε γραμμές σύμφωνα με κάποια συνθήκη... Για παράδειγμα,\n"
      ]
    },
    {
      "cell_type": "code",
      "metadata": {
        "id": "k4Hx6VPdbSkT",
        "colab_type": "code",
        "colab": {
          "base_uri": "https://localhost:8080/",
          "height": 54
        },
        "outputId": "559d27e9-bc7f-47c5-fd9c-5400c2676bbb"
      },
      "source": [
        "# υπολογίστε τη μέση βαθμολογία  (star rating) για ταινίες με διάρκεια μεγαλύτερη από 2 ώρες\n",
        "# και συγκρίνετέ τη με τη μέση βαθμολογία των ταινιών με μικρότερη διάρκεια.\n",
        "print('Avg. star rating for movies 2 hours or longer: ', movies[movies['duration'] >= 120]['star_rating'].mean(), \n",
        " '\\nAvg. star rating for movies shorter than 2 hours: ', movies[movies['duration'] < 120]['star_rating'].mean())"
      ],
      "execution_count": 22,
      "outputs": [
        {
          "output_type": "stream",
          "text": [
            "Avg. star rating for movies 2 hours or longer:  7.948898678414082 \n",
            "Avg. star rating for movies shorter than 2 hours:  7.838666666666657\n"
          ],
          "name": "stdout"
        }
      ]
    },
    {
      "cell_type": "markdown",
      "metadata": {
        "id": "HPvyuGd8bSkd",
        "colab_type": "text"
      },
      "source": [
        "# Ας κάνουμε ένα γράφημα σχετικά με αυτό...\n"
      ]
    },
    {
      "cell_type": "code",
      "metadata": {
        "id": "DZVHfa1GbSkg",
        "colab_type": "code",
        "colab": {
          "base_uri": "https://localhost:8080/",
          "height": 302
        },
        "outputId": "85b41363-becd-4c45-b1b1-10c21270ac51"
      },
      "source": [
        "# ας φτιάξουμε ένα γράφημα για να δούμε αν υπάρχει συσχέτιση μεταξύ της διάρκειας μιας ταινίας\n",
        "# και της βαθμολογίας της.\n",
        "movies.boxplot(column='duration', by='star_rating');"
      ],
      "execution_count": 23,
      "outputs": [
        {
          "output_type": "display_data",
          "data": {
            "image/png": "[encoded data removed]",
            "text/plain": [
              "<Figure size 432x288 with 1 Axes>"
            ]
          },
          "metadata": {
            "tags": [],
            "needs_background": "light"
          }
        }
      ]
    },
    {
      "cell_type": "code",
      "metadata": {
        "id": "5Q8fmLTMbSkn",
        "colab_type": "code",
        "colab": {
          "base_uri": "https://localhost:8080/",
          "height": 582
        },
        "outputId": "2131870e-122f-429f-81e1-0d23303b6f8b"
      },
      "source": [
        "# Ας υπολογίσουμε τη μέση διάρκεια σε κάθε κατηγορία\n",
        "movies[['duration','genre']].groupby('genre').mean()"
      ],
      "execution_count": 24,
      "outputs": [
        {
          "output_type": "execute_result",
          "data": {
            "text/html": [
              "<div>\n",
              "<style scoped>\n",
              "    .dataframe tbody tr th:only-of-type {\n",
              "        vertical-align: middle;\n",
              "    }\n",
              "\n",
              "    .dataframe tbody tr th {\n",
              "        vertical-align: top;\n",
              "    }\n",
              "\n",
              "    .dataframe thead th {\n",
              "        text-align: right;\n",
              "    }\n",
              "</style>\n",
              "<table border=\"1\" class=\"dataframe\">\n",
              "  <thead>\n",
              "    <tr style=\"text-align: right;\">\n",
              "      <th></th>\n",
              "      <th>duration</th>\n",
              "    </tr>\n",
              "    <tr>\n",
              "      <th>genre</th>\n",
              "      <th></th>\n",
              "    </tr>\n",
              "  </thead>\n",
              "  <tbody>\n",
              "    <tr>\n",
              "      <th>Action</th>\n",
              "      <td>126.485294</td>\n",
              "    </tr>\n",
              "    <tr>\n",
              "      <th>Adventure</th>\n",
              "      <td>134.840000</td>\n",
              "    </tr>\n",
              "    <tr>\n",
              "      <th>Animation</th>\n",
              "      <td>96.596774</td>\n",
              "    </tr>\n",
              "    <tr>\n",
              "      <th>Biography</th>\n",
              "      <td>131.844156</td>\n",
              "    </tr>\n",
              "    <tr>\n",
              "      <th>Comedy</th>\n",
              "      <td>107.602564</td>\n",
              "    </tr>\n",
              "    <tr>\n",
              "      <th>Crime</th>\n",
              "      <td>122.298387</td>\n",
              "    </tr>\n",
              "    <tr>\n",
              "      <th>Drama</th>\n",
              "      <td>126.539568</td>\n",
              "    </tr>\n",
              "    <tr>\n",
              "      <th>Family</th>\n",
              "      <td>107.500000</td>\n",
              "    </tr>\n",
              "    <tr>\n",
              "      <th>Fantasy</th>\n",
              "      <td>112.000000</td>\n",
              "    </tr>\n",
              "    <tr>\n",
              "      <th>Film-Noir</th>\n",
              "      <td>97.333333</td>\n",
              "    </tr>\n",
              "    <tr>\n",
              "      <th>History</th>\n",
              "      <td>66.000000</td>\n",
              "    </tr>\n",
              "    <tr>\n",
              "      <th>Horror</th>\n",
              "      <td>102.517241</td>\n",
              "    </tr>\n",
              "    <tr>\n",
              "      <th>Mystery</th>\n",
              "      <td>115.625000</td>\n",
              "    </tr>\n",
              "    <tr>\n",
              "      <th>Sci-Fi</th>\n",
              "      <td>109.000000</td>\n",
              "    </tr>\n",
              "    <tr>\n",
              "      <th>Thriller</th>\n",
              "      <td>114.200000</td>\n",
              "    </tr>\n",
              "    <tr>\n",
              "      <th>Western</th>\n",
              "      <td>136.666667</td>\n",
              "    </tr>\n",
              "  </tbody>\n",
              "</table>\n",
              "</div>"
            ],
            "text/plain": [
              "             duration\n",
              "genre                \n",
              "Action     126.485294\n",
              "Adventure  134.840000\n",
              "Animation   96.596774\n",
              "Biography  131.844156\n",
              "Comedy     107.602564\n",
              "Crime      122.298387\n",
              "Drama      126.539568\n",
              "Family     107.500000\n",
              "Fantasy    112.000000\n",
              "Film-Noir   97.333333\n",
              "History     66.000000\n",
              "Horror     102.517241\n",
              "Mystery    115.625000\n",
              "Sci-Fi     109.000000\n",
              "Thriller   114.200000\n",
              "Western    136.666667"
            ]
          },
          "metadata": {
            "tags": []
          },
          "execution_count": 24
        }
      ]
    },
    {
      "cell_type": "markdown",
      "metadata": {
        "id": "EsfoDVpvbSkt",
        "colab_type": "text"
      },
      "source": [
        "Ας το δούμε και αυτό γραφικά:"
      ]
    },
    {
      "cell_type": "code",
      "metadata": {
        "id": "ukige7jQdyqw",
        "colab_type": "code",
        "colab": {
          "base_uri": "https://localhost:8080/",
          "height": 301
        },
        "outputId": "4dc4f1f8-ecfb-4f1d-d311-c54c7e67bd9c"
      },
      "source": [
        "movies[['duration','genre']].groupby('genre').mean().plot()"
      ],
      "execution_count": 29,
      "outputs": [
        {
          "output_type": "execute_result",
          "data": {
            "text/plain": [
              "<matplotlib.axes._subplots.AxesSubplot at 0x7f728e0e6588>"
            ]
          },
          "metadata": {
            "tags": []
          },
          "execution_count": 29
        },
        {
          "output_type": "display_data",
          "data": {
            "image/png": "[encoded data removed]",
            "text/plain": [
              "<Figure size 432x288 with 1 Axes>"
            ]
          },
          "metadata": {
            "tags": [],
            "needs_background": "light"
          }
        }
      ]
    },
    {
      "cell_type": "code",
      "metadata": {
        "id": "keLV-AkibSku",
        "colab_type": "code",
        "colab": {
          "base_uri": "https://localhost:8080/",
          "height": 320
        },
        "outputId": "d550a738-3379-4fa4-d52f-fb7434278b3d"
      },
      "source": [
        "# βλέπουμε τη σχέση μεταξύ βαθμολογίας και content rating\n",
        "movies.boxplot(column='duration', by='content_rating')"
      ],
      "execution_count": 30,
      "outputs": [
        {
          "output_type": "execute_result",
          "data": {
            "text/plain": [
              "<matplotlib.axes._subplots.AxesSubplot at 0x7f728e28fc18>"
            ]
          },
          "metadata": {
            "tags": []
          },
          "execution_count": 30
        },
        {
          "output_type": "display_data",
          "data": {
            "image/png": "[encoded data removed]",
            "text/plain": [
              "<Figure size 432x288 with 1 Axes>"
            ]
          },
          "metadata": {
            "tags": [],
            "needs_background": "light"
          }
        }
      ]
    },
    {
      "cell_type": "code",
      "metadata": {
        "id": "wnKvrFbhbSkz",
        "colab_type": "code",
        "colab": {
          "base_uri": "https://localhost:8080/",
          "height": 639
        },
        "outputId": "1f1ea359-d00c-4bf0-b5a4-a93d51ba43b0"
      },
      "source": [
        "# Ας βρούμε τις καλύτερες ταινίες (by star rating) για κάθε κατηγορία\n",
        "movies.sort_values('star_rating', ascending=False).groupby('genre')['title','star_rating'].first()\n"
      ],
      "execution_count": 31,
      "outputs": [
        {
          "output_type": "stream",
          "text": [
            "/usr/local/lib/python3.6/dist-packages/ipykernel_launcher.py:1: FutureWarning: Indexing with multiple keys (implicitly converted to a tuple of keys) will be deprecated, use a list instead.\n",
            "  \"\"\"Entry point for launching an IPython kernel.\n"
          ],
          "name": "stderr"
        },
        {
          "output_type": "execute_result",
          "data": {
            "text/html": [
              "<div>\n",
              "<style scoped>\n",
              "    .dataframe tbody tr th:only-of-type {\n",
              "        vertical-align: middle;\n",
              "    }\n",
              "\n",
              "    .dataframe tbody tr th {\n",
              "        vertical-align: top;\n",
              "    }\n",
              "\n",
              "    .dataframe thead th {\n",
              "        text-align: right;\n",
              "    }\n",
              "</style>\n",
              "<table border=\"1\" class=\"dataframe\">\n",
              "  <thead>\n",
              "    <tr style=\"text-align: right;\">\n",
              "      <th></th>\n",
              "      <th>title</th>\n",
              "      <th>star_rating</th>\n",
              "    </tr>\n",
              "    <tr>\n",
              "      <th>genre</th>\n",
              "      <th></th>\n",
              "      <th></th>\n",
              "    </tr>\n",
              "  </thead>\n",
              "  <tbody>\n",
              "    <tr>\n",
              "      <th>Action</th>\n",
              "      <td>The Dark Knight</td>\n",
              "      <td>9.0</td>\n",
              "    </tr>\n",
              "    <tr>\n",
              "      <th>Adventure</th>\n",
              "      <td>The Lord of the Rings: The Return of the King</td>\n",
              "      <td>8.9</td>\n",
              "    </tr>\n",
              "    <tr>\n",
              "      <th>Animation</th>\n",
              "      <td>Spirited Away</td>\n",
              "      <td>8.6</td>\n",
              "    </tr>\n",
              "    <tr>\n",
              "      <th>Biography</th>\n",
              "      <td>Schindler's List</td>\n",
              "      <td>8.9</td>\n",
              "    </tr>\n",
              "    <tr>\n",
              "      <th>Comedy</th>\n",
              "      <td>Modern Times</td>\n",
              "      <td>8.6</td>\n",
              "    </tr>\n",
              "    <tr>\n",
              "      <th>Crime</th>\n",
              "      <td>The Shawshank Redemption</td>\n",
              "      <td>9.3</td>\n",
              "    </tr>\n",
              "    <tr>\n",
              "      <th>Drama</th>\n",
              "      <td>12 Angry Men</td>\n",
              "      <td>8.9</td>\n",
              "    </tr>\n",
              "    <tr>\n",
              "      <th>Family</th>\n",
              "      <td>E.T. the Extra-Terrestrial</td>\n",
              "      <td>7.9</td>\n",
              "    </tr>\n",
              "    <tr>\n",
              "      <th>Fantasy</th>\n",
              "      <td>The City of Lost Children</td>\n",
              "      <td>7.7</td>\n",
              "    </tr>\n",
              "    <tr>\n",
              "      <th>Film-Noir</th>\n",
              "      <td>The Third Man</td>\n",
              "      <td>8.3</td>\n",
              "    </tr>\n",
              "    <tr>\n",
              "      <th>History</th>\n",
              "      <td>Battleship Potemkin</td>\n",
              "      <td>8.0</td>\n",
              "    </tr>\n",
              "    <tr>\n",
              "      <th>Horror</th>\n",
              "      <td>Psycho</td>\n",
              "      <td>8.6</td>\n",
              "    </tr>\n",
              "    <tr>\n",
              "      <th>Mystery</th>\n",
              "      <td>Rear Window</td>\n",
              "      <td>8.6</td>\n",
              "    </tr>\n",
              "    <tr>\n",
              "      <th>Sci-Fi</th>\n",
              "      <td>Blade Runner</td>\n",
              "      <td>8.2</td>\n",
              "    </tr>\n",
              "    <tr>\n",
              "      <th>Thriller</th>\n",
              "      <td>Shadow of a Doubt</td>\n",
              "      <td>8.0</td>\n",
              "    </tr>\n",
              "    <tr>\n",
              "      <th>Western</th>\n",
              "      <td>The Good, the Bad and the Ugly</td>\n",
              "      <td>8.9</td>\n",
              "    </tr>\n",
              "  </tbody>\n",
              "</table>\n",
              "</div>"
            ],
            "text/plain": [
              "                                                   title  star_rating\n",
              "genre                                                                \n",
              "Action                                   The Dark Knight          9.0\n",
              "Adventure  The Lord of the Rings: The Return of the King          8.9\n",
              "Animation                                  Spirited Away          8.6\n",
              "Biography                               Schindler's List          8.9\n",
              "Comedy                                      Modern Times          8.6\n",
              "Crime                           The Shawshank Redemption          9.3\n",
              "Drama                                       12 Angry Men          8.9\n",
              "Family                        E.T. the Extra-Terrestrial          7.9\n",
              "Fantasy                        The City of Lost Children          7.7\n",
              "Film-Noir                                  The Third Man          8.3\n",
              "History                              Battleship Potemkin          8.0\n",
              "Horror                                            Psycho          8.6\n",
              "Mystery                                      Rear Window          8.6\n",
              "Sci-Fi                                      Blade Runner          8.2\n",
              "Thriller                               Shadow of a Doubt          8.0\n",
              "Western                   The Good, the Bad and the Ugly          8.9"
            ]
          },
          "metadata": {
            "tags": []
          },
          "execution_count": 31
        }
      ]
    },
    {
      "cell_type": "markdown",
      "metadata": {
        "id": "O1oWHbQ-bSk8",
        "colab_type": "text"
      },
      "source": [
        "First keyword is used to get the first value from a list/array or any sort of storage list type.\n",
        "\n",
        "Some more analytics this data can give."
      ]
    },
    {
      "cell_type": "code",
      "metadata": {
        "id": "sstOvNnbbSlE",
        "colab_type": "code",
        "colab": {
          "base_uri": "https://localhost:8080/",
          "height": 350
        },
        "outputId": "a6d48f6c-0180-4ae6-b081-f08ad8bbff4a"
      },
      "source": [
        "# Ας υπολογίσουμε τη μέση βαθμολογία για κάθε κατηγορία\n",
        " \n",
        "movies.groupby('genre')['star_rating'].mean()"
      ],
      "execution_count": 36,
      "outputs": [
        {
          "output_type": "execute_result",
          "data": {
            "text/plain": [
              "genre\n",
              "Action       7.884559\n",
              "Adventure    7.933333\n",
              "Animation    7.914516\n",
              "Biography    7.862338\n",
              "Comedy       7.822436\n",
              "Crime        7.916935\n",
              "Drama        7.902518\n",
              "Family       7.850000\n",
              "Fantasy      7.700000\n",
              "Film-Noir    8.033333\n",
              "History      8.000000\n",
              "Horror       7.806897\n",
              "Mystery      7.975000\n",
              "Sci-Fi       7.920000\n",
              "Thriller     7.680000\n",
              "Western      8.255556\n",
              "Name: star_rating, dtype: float64"
            ]
          },
          "metadata": {
            "tags": []
          },
          "execution_count": 36
        }
      ]
    },
    {
      "cell_type": "code",
      "metadata": {
        "id": "I44lHg6EbSlZ",
        "colab_type": "code",
        "colab": {}
      },
      "source": [
        ""
      ],
      "execution_count": 0,
      "outputs": []
    },
    {
      "cell_type": "code",
      "metadata": {
        "id": "XJvTck9fbSlf",
        "colab_type": "code",
        "colab": {}
      },
      "source": [
        ""
      ],
      "execution_count": 0,
      "outputs": []
    },
    {
      "cell_type": "code",
      "metadata": {
        "id": "XYynnnMAbSll",
        "colab_type": "code",
        "colab": {}
      },
      "source": [
        ""
      ],
      "execution_count": 0,
      "outputs": []
    }
  ]
}