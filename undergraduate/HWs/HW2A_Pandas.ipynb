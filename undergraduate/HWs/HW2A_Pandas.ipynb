{
  "nbformat": 4,
  "nbformat_minor": 0,
  "metadata": {
    "kernelspec": {
      "display_name": "Python 3",
      "language": "python",
      "name": "python3"
    },
    "language_info": {
      "codemirror_mode": {
        "name": "ipython",
        "version": 3
      },
      "file_extension": ".py",
      "mimetype": "text/x-python",
      "name": "python",
      "nbconvert_exporter": "python",
      "pygments_lexer": "ipython3",
      "version": "3.7.2"
    },
    "colab": {
      "name": "HW2A_Pandas.ipynb",
      "provenance": [],
      "collapsed_sections": []
    }
  },
  "cells": [
    {
      "cell_type": "markdown",
      "metadata": {
        "id": "BNPOo7OrHV_5",
        "colab_type": "text"
      },
      "source": [
        "# Μάθημα 3: Βασικές λειτουργίες με  - Pandas"
      ]
    },
    {
      "cell_type": "markdown",
      "metadata": {
        "id": "x04V6RQ7HV_8",
        "colab_type": "text"
      },
      "source": [
        "Μελετήστε του τύπους δεδομένων της Python\n",
        "\n",
        "## Τα βασικά: Τύποι δεδομένων και δομές δεδομένων:\n",
        "\n",
        "\n",
        "Υπάρχουν στην Python οι εξής τύποι δεδομένων:\n",
        "\n",
        "• Integers: int( ) x = 8\n",
        "\n",
        "• Float: float( ) x = 13.99\n",
        "\n",
        "• Complex: x = 1a + 5d\n",
        "\n",
        "• Bool: bool( ) x = False\n",
        "\n",
        "• Strings: str( ) x = \"Kalimera\"\n",
        "\n",
        "• Lists: list( ) x = [2, 98, 20, 32, -6, -21]\n",
        "\n",
        "• Dictionaries: x = {\"noumera\": [98, 21], \"thermokrasia\": 9.3, \"hlikia\":15}\n",
        "\n",
        "\n",
        "#### Νέοι τύποι δεδομένων:\n",
        "\n",
        "• Panda - Dataframes:\n",
        "    μοιάζουν με αρχεία του excel"
      ]
    },
    {
      "cell_type": "markdown",
      "metadata": {
        "id": "MGA6MTcSHWAA",
        "colab_type": "text"
      },
      "source": [
        "## Πακέτο Pandas\n",
        "\n",
        "![Image of operators](https://numfocus.org/wp-content/uploads/2016/07/pandas-logo-300.png)\n",
        "\n",
        "Το πακέτο Pandas είναι μία open source βιβλιοθήκη που παρέχει ισχυρές και ταυτόχρονα εύκολες λειτουργίες και εργαλεία για ανάλυση δεδομένων στην Python. Τα Pandas αποτελούν τη ραχοκοκκαλιά των περισσότερων projects δεδομένων και συνήθως συνδυάζονται και με άλλα πακέτα. \n",
        "\n",
        "Τα pandas μας επιτρέπουν να χειριστούμε, να ταξινομούμε, να φιλτράρουμε και να τροποιοιούμε τα δεδομένα μας μέσω των πλαισίων δεδομένων - **DataFrames**."
      ]
    },
    {
      "cell_type": "markdown",
      "metadata": {
        "id": "FWKUuOZUHWAD",
        "colab_type": "text"
      },
      "source": [
        "##### Pandas-Dataframe: (όπως excel sheets)\n",
        "\n",
        "\n",
        "Τα Pandas DataFrames είναι πλαίσια δεδομένων 2 διαστάσεων και μπορούν να περιέχουν διαφορετικούς τύπους δεδομένων, (αριθμούς, συμβολοσειρές κ.λπ., ακριβώς όπως ένα αρχείο του excel). \n",
        "\n",
        "Τα Pandas DataFrame αποτελούνται από 3 βασικά στοιχεία: τα data, τα rows και τα columns."
      ]
    },
    {
      "cell_type": "markdown",
      "metadata": {
        "id": "tPFKxVFxHWAG",
        "colab_type": "text"
      },
      "source": [
        "#### Δουλεύοντας με dataframes:\n",
        "\n",
        "Πρώτα: import package: \n",
        "\n",
        "    • import numpy as np (χρειάζεται για τα Pandas)\n",
        "\n",
        "    • import pandas as pd"
      ]
    },
    {
      "cell_type": "markdown",
      "metadata": {
        "id": "_CCpabj8HWAJ",
        "colab_type": "text"
      },
      "source": [
        "#### Δημιουργία array:"
      ]
    },
    {
      "cell_type": "code",
      "metadata": {
        "id": "Jj3ke81JHWAL",
        "colab_type": "code",
        "colab": {}
      },
      "source": [
        "import numpy as np\n",
        "\n",
        "import pandas as pd\n",
        "\n",
        "df_data = pd.DataFrame([[1,2],[2,3]])"
      ],
      "execution_count": 0,
      "outputs": []
    },
    {
      "cell_type": "markdown",
      "metadata": {
        "id": "ApmZmt3QHWAc",
        "colab_type": "text"
      },
      "source": [
        "Το DataFrame μπορεί επίσης να δημιουργηθεί από έτοιμα excel, csv, dictonairies, ndarray, lists, μέχρι και από αρχεία κειμένου.\n",
        "\n",
        "*Παραδείγματα:*"
      ]
    },
    {
      "cell_type": "code",
      "metadata": {
        "id": "uC1tehx7HWAd",
        "colab_type": "code",
        "colab": {}
      },
      "source": [
        "df1 = pd.DataFrame(np.array( [[1, 2, 3], [4, 5, 6]] ))"
      ],
      "execution_count": 0,
      "outputs": []
    },
    {
      "cell_type": "markdown",
      "metadata": {
        "id": "0BC-AN1iHWAp",
        "colab_type": "text"
      },
      "source": [
        "Πιο περίπλοκα: πρώτα φτιάχνουμε μία λίστα - λεξικό από λίστες. "
      ]
    },
    {
      "cell_type": "code",
      "metadata": {
        "id": "He8j0HhcHWAr",
        "colab_type": "code",
        "colab": {}
      },
      "source": [
        "new_data = {'Onoma': ['Maria','Giorgos','Petros','Vasiliki','Alexandra', 'Popi'], \n",
        "            'Ilikia':[22,38,31,19,29,49], \n",
        "            'Poli':['Athens','Patra','Trikala','Sparti','Serres', 'Chios'], 'Epaggelma':['foititria','ilektrologos','kathigitis', 'foititria', 'anergi', 'daskala']}"
      ],
      "execution_count": 0,
      "outputs": []
    },
    {
      "cell_type": "code",
      "metadata": {
        "id": "zZriQFk_HWA2",
        "colab_type": "code",
        "outputId": "d325aa78-01ea-48a3-925e-4e56f7242422",
        "colab": {
          "base_uri": "https://localhost:8080/",
          "height": 237
        }
      },
      "source": [
        "df2 = pd.DataFrame(new_data)\n",
        "df2"
      ],
      "execution_count": 4,
      "outputs": [
        {
          "output_type": "execute_result",
          "data": {
            "text/html": [
              "<div>\n",
              "<style scoped>\n",
              "    .dataframe tbody tr th:only-of-type {\n",
              "        vertical-align: middle;\n",
              "    }\n",
              "\n",
              "    .dataframe tbody tr th {\n",
              "        vertical-align: top;\n",
              "    }\n",
              "\n",
              "    .dataframe thead th {\n",
              "        text-align: right;\n",
              "    }\n",
              "</style>\n",
              "<table border=\"1\" class=\"dataframe\">\n",
              "  <thead>\n",
              "    <tr style=\"text-align: right;\">\n",
              "      <th></th>\n",
              "      <th>Onoma</th>\n",
              "      <th>Ilikia</th>\n",
              "      <th>Poli</th>\n",
              "      <th>Epaggelma</th>\n",
              "    </tr>\n",
              "  </thead>\n",
              "  <tbody>\n",
              "    <tr>\n",
              "      <th>0</th>\n",
              "      <td>Maria</td>\n",
              "      <td>22</td>\n",
              "      <td>Athens</td>\n",
              "      <td>foititria</td>\n",
              "    </tr>\n",
              "    <tr>\n",
              "      <th>1</th>\n",
              "      <td>Giorgos</td>\n",
              "      <td>38</td>\n",
              "      <td>Patra</td>\n",
              "      <td>ilektrologos</td>\n",
              "    </tr>\n",
              "    <tr>\n",
              "      <th>2</th>\n",
              "      <td>Petros</td>\n",
              "      <td>31</td>\n",
              "      <td>Trikala</td>\n",
              "      <td>kathigitis</td>\n",
              "    </tr>\n",
              "    <tr>\n",
              "      <th>3</th>\n",
              "      <td>Vasiliki</td>\n",
              "      <td>19</td>\n",
              "      <td>Sparti</td>\n",
              "      <td>foititria</td>\n",
              "    </tr>\n",
              "    <tr>\n",
              "      <th>4</th>\n",
              "      <td>Alexandra</td>\n",
              "      <td>29</td>\n",
              "      <td>Serres</td>\n",
              "      <td>anergi</td>\n",
              "    </tr>\n",
              "    <tr>\n",
              "      <th>5</th>\n",
              "      <td>Popi</td>\n",
              "      <td>49</td>\n",
              "      <td>Chios</td>\n",
              "      <td>daskala</td>\n",
              "    </tr>\n",
              "  </tbody>\n",
              "</table>\n",
              "</div>"
            ],
            "text/plain": [
              "       Onoma  Ilikia     Poli     Epaggelma\n",
              "0      Maria      22   Athens     foititria\n",
              "1    Giorgos      38    Patra  ilektrologos\n",
              "2     Petros      31  Trikala    kathigitis\n",
              "3   Vasiliki      19   Sparti     foititria\n",
              "4  Alexandra      29   Serres        anergi\n",
              "5       Popi      49    Chios       daskala"
            ]
          },
          "metadata": {
            "tags": []
          },
          "execution_count": 4
        }
      ]
    },
    {
      "cell_type": "markdown",
      "metadata": {
        "id": "tbVYQ_tMHWBB",
        "colab_type": "text"
      },
      "source": [
        "Για να δούμε την αρχή και το τέλος του dataframe:\n",
        "    \n",
        "    df.head() \n",
        "    \n",
        "    df.tail()"
      ]
    },
    {
      "cell_type": "markdown",
      "metadata": {
        "id": "VSvqqI07HWBE",
        "colab_type": "text"
      },
      "source": [
        "#### Indexing  και  Selecting Data\n",
        "\n",
        "\n",
        "Για να πάρουμε ένα στοιχείο του DataFrame χρησιμοποιούμε τετράγωνες αγκύλες και το όνομα της στήλης ή συγκεκριμένης γραμμής. \n",
        "\n",
        "• Πρόσβαση στα columns με το όνομά τους:"
      ]
    },
    {
      "cell_type": "code",
      "metadata": {
        "id": "icGVvUAGHWBG",
        "colab_type": "code",
        "outputId": "1be8233f-21fb-432d-900a-355e95e72db4",
        "colab": {
          "base_uri": "https://localhost:8080/",
          "height": 146
        }
      },
      "source": [
        "df2['Ilikia']"
      ],
      "execution_count": 5,
      "outputs": [
        {
          "output_type": "execute_result",
          "data": {
            "text/plain": [
              "0    22\n",
              "1    38\n",
              "2    31\n",
              "3    19\n",
              "4    29\n",
              "5    49\n",
              "Name: Ilikia, dtype: int64"
            ]
          },
          "metadata": {
            "tags": []
          },
          "execution_count": 5
        }
      ]
    },
    {
      "cell_type": "code",
      "metadata": {
        "id": "EuImM9I5HWBY",
        "colab_type": "code",
        "outputId": "1fad1fdd-67c3-4b3b-e22c-d38858ee11ea",
        "colab": {
          "base_uri": "https://localhost:8080/",
          "height": 237
        }
      },
      "source": [
        "df2[['Epaggelma', 'Poli']]"
      ],
      "execution_count": 6,
      "outputs": [
        {
          "output_type": "execute_result",
          "data": {
            "text/html": [
              "<div>\n",
              "<style scoped>\n",
              "    .dataframe tbody tr th:only-of-type {\n",
              "        vertical-align: middle;\n",
              "    }\n",
              "\n",
              "    .dataframe tbody tr th {\n",
              "        vertical-align: top;\n",
              "    }\n",
              "\n",
              "    .dataframe thead th {\n",
              "        text-align: right;\n",
              "    }\n",
              "</style>\n",
              "<table border=\"1\" class=\"dataframe\">\n",
              "  <thead>\n",
              "    <tr style=\"text-align: right;\">\n",
              "      <th></th>\n",
              "      <th>Epaggelma</th>\n",
              "      <th>Poli</th>\n",
              "    </tr>\n",
              "  </thead>\n",
              "  <tbody>\n",
              "    <tr>\n",
              "      <th>0</th>\n",
              "      <td>foititria</td>\n",
              "      <td>Athens</td>\n",
              "    </tr>\n",
              "    <tr>\n",
              "      <th>1</th>\n",
              "      <td>ilektrologos</td>\n",
              "      <td>Patra</td>\n",
              "    </tr>\n",
              "    <tr>\n",
              "      <th>2</th>\n",
              "      <td>kathigitis</td>\n",
              "      <td>Trikala</td>\n",
              "    </tr>\n",
              "    <tr>\n",
              "      <th>3</th>\n",
              "      <td>foititria</td>\n",
              "      <td>Sparti</td>\n",
              "    </tr>\n",
              "    <tr>\n",
              "      <th>4</th>\n",
              "      <td>anergi</td>\n",
              "      <td>Serres</td>\n",
              "    </tr>\n",
              "    <tr>\n",
              "      <th>5</th>\n",
              "      <td>daskala</td>\n",
              "      <td>Chios</td>\n",
              "    </tr>\n",
              "  </tbody>\n",
              "</table>\n",
              "</div>"
            ],
            "text/plain": [
              "      Epaggelma     Poli\n",
              "0     foititria   Athens\n",
              "1  ilektrologos    Patra\n",
              "2    kathigitis  Trikala\n",
              "3     foititria   Sparti\n",
              "4        anergi   Serres\n",
              "5       daskala    Chios"
            ]
          },
          "metadata": {
            "tags": []
          },
          "execution_count": 6
        }
      ]
    },
    {
      "cell_type": "markdown",
      "metadata": {
        "id": "PR0nv0SFHWBf",
        "colab_type": "text"
      },
      "source": [
        "#### Επιλογή γραμμής: \n",
        "\n",
        "Κάθε dataframe έχει μία στήλη με το index, το μοναδικό κλειδί για κάθε γραμμή. Δίνοντας την τιμή του index στη συνάρτηση loc() βρίσκεις τη συγκεκριμένη γραμμή. Κάθε γραμμή όμως έχει και τη θέση της στο dataframe, γραμμή 0, η γραμμή 1, η γραμμή 2, κλπ. Αν καλέσουμε τη συνάρτηση iloc() με έναν αριθμό τότε βρίσκουμε τη γραμμή που έχει την αντίστοιχη θέση.\n"
      ]
    },
    {
      "cell_type": "markdown",
      "metadata": {
        "id": "jnk3bhJTHWBg",
        "colab_type": "text"
      },
      "source": [
        "    • df.loc[ ] - επιστρέφει τα rows που έχουν στο index τη συγκεκριμένη τιμή  από το Pandas DataFrame.\n",
        "\n",
        "    • df.iloc[ ] function - επιλέγει τις σειρές με βάση τη θέση \n",
        "\n",
        "Το df.iloc indexer μοιάζει πολύ με το df.loc απλά χρησιμοποιεί τη θέση (integer location) για να επιλέξει. "
      ]
    },
    {
      "cell_type": "code",
      "metadata": {
        "id": "RPzzdi2qHWBi",
        "colab_type": "code",
        "outputId": "2e1e3194-0ec1-480d-9e82-d31f235e2727",
        "colab": {
          "base_uri": "https://localhost:8080/",
          "height": 35
        }
      },
      "source": [
        "#  Συχνά η στήλη index έχει κλειδιά 0,1,2,3,4... οπότε το loc()και το iloc() είναι ισοδύναμε\n",
        "df2.loc[0][0]"
      ],
      "execution_count": 11,
      "outputs": [
        {
          "output_type": "execute_result",
          "data": {
            "text/plain": [
              "'Maria'"
            ]
          },
          "metadata": {
            "tags": []
          },
          "execution_count": 11
        }
      ]
    },
    {
      "cell_type": "code",
      "metadata": {
        "id": "CEOXHEdAHWBr",
        "colab_type": "code",
        "outputId": "d6b11f09-8724-459e-8343-f6ee7b2202c2",
        "colab": {
          "base_uri": "https://localhost:8080/",
          "height": 109
        }
      },
      "source": [
        "df2.iloc[1]"
      ],
      "execution_count": 12,
      "outputs": [
        {
          "output_type": "execute_result",
          "data": {
            "text/plain": [
              "Onoma             Giorgos\n",
              "Ilikia                 38\n",
              "Poli                Patra\n",
              "Epaggelma    ilektrologos\n",
              "Name: 1, dtype: object"
            ]
          },
          "metadata": {
            "tags": []
          },
          "execution_count": 12
        }
      ]
    },
    {
      "cell_type": "markdown",
      "metadata": {
        "id": "BYNMr-S9HWBz",
        "colab_type": "text"
      },
      "source": [
        "Επιλογή όλων των rows και μερικών columns με τη μέθοδο iloc:"
      ]
    },
    {
      "cell_type": "code",
      "metadata": {
        "id": "jJ8c7N9SHWB0",
        "colab_type": "code",
        "colab": {}
      },
      "source": [
        "new = df2.iloc [ :, [1, 2]]"
      ],
      "execution_count": 0,
      "outputs": []
    },
    {
      "cell_type": "markdown",
      "metadata": {
        "id": "vw_wfdMGHWB8",
        "colab_type": "text"
      },
      "source": [
        "#### Άλλες λειτουργίες\n",
        "\n",
        "• Προσθήκη ενός column:\n",
        "\n",
        "    df.insert (loc= ? , column =?, value= ? )\n",
        "\n",
        "*Παράδειγμα:*  "
      ]
    },
    {
      "cell_type": "code",
      "metadata": {
        "id": "ft86imUQHWB-",
        "colab_type": "code",
        "colab": {}
      },
      "source": [
        "df2.insert(loc=1, column= 'mathima', value = 'A')"
      ],
      "execution_count": 0,
      "outputs": []
    },
    {
      "cell_type": "markdown",
      "metadata": {
        "id": "DOJYRe_FHWCH",
        "colab_type": "text"
      },
      "source": [
        "• Ένωση διαφορετικών dataframes:\n",
        "\n",
        "    • pd.merge(data1,data2, how=’right’)\n",
        "\n",
        "    • df1.join(data2, how=’right’)\n",
        "\n",
        "    • pd.concat()"
      ]
    },
    {
      "cell_type": "markdown",
      "metadata": {
        "id": "alfVhBKcHWCI",
        "colab_type": "text"
      },
      "source": [
        "**Προσοχή:** το how μπορεί να είναι: right, left, inner, outer – αναλόγως τι θα επιλέξετε"
      ]
    },
    {
      "cell_type": "markdown",
      "metadata": {
        "id": "ahpxxiCIHWCK",
        "colab_type": "text"
      },
      "source": [
        "• Μετατόπιση (Transposing): \n",
        "    \n",
        "    DataFrame.T "
      ]
    },
    {
      "cell_type": "code",
      "metadata": {
        "id": "ekz_H0fSHWCK",
        "colab_type": "code",
        "outputId": "ef8510f3-32f8-4b18-e67e-3cf5e13f65fd",
        "colab": {
          "base_uri": "https://localhost:8080/",
          "height": 112
        }
      },
      "source": [
        "df = pd.DataFrame([[1,9],[5,3]])\n",
        "df"
      ],
      "execution_count": 15,
      "outputs": [
        {
          "output_type": "execute_result",
          "data": {
            "text/html": [
              "<div>\n",
              "<style scoped>\n",
              "    .dataframe tbody tr th:only-of-type {\n",
              "        vertical-align: middle;\n",
              "    }\n",
              "\n",
              "    .dataframe tbody tr th {\n",
              "        vertical-align: top;\n",
              "    }\n",
              "\n",
              "    .dataframe thead th {\n",
              "        text-align: right;\n",
              "    }\n",
              "</style>\n",
              "<table border=\"1\" class=\"dataframe\">\n",
              "  <thead>\n",
              "    <tr style=\"text-align: right;\">\n",
              "      <th></th>\n",
              "      <th>0</th>\n",
              "      <th>1</th>\n",
              "    </tr>\n",
              "  </thead>\n",
              "  <tbody>\n",
              "    <tr>\n",
              "      <th>0</th>\n",
              "      <td>1</td>\n",
              "      <td>9</td>\n",
              "    </tr>\n",
              "    <tr>\n",
              "      <th>1</th>\n",
              "      <td>5</td>\n",
              "      <td>3</td>\n",
              "    </tr>\n",
              "  </tbody>\n",
              "</table>\n",
              "</div>"
            ],
            "text/plain": [
              "   0  1\n",
              "0  1  9\n",
              "1  5  3"
            ]
          },
          "metadata": {
            "tags": []
          },
          "execution_count": 15
        }
      ]
    },
    {
      "cell_type": "code",
      "metadata": {
        "id": "D4NWyPCDHWCS",
        "colab_type": "code",
        "outputId": "0f624829-18e7-4530-e866-c9f3ff58179b",
        "colab": {
          "base_uri": "https://localhost:8080/",
          "height": 112
        }
      },
      "source": [
        "df.T"
      ],
      "execution_count": 16,
      "outputs": [
        {
          "output_type": "execute_result",
          "data": {
            "text/html": [
              "<div>\n",
              "<style scoped>\n",
              "    .dataframe tbody tr th:only-of-type {\n",
              "        vertical-align: middle;\n",
              "    }\n",
              "\n",
              "    .dataframe tbody tr th {\n",
              "        vertical-align: top;\n",
              "    }\n",
              "\n",
              "    .dataframe thead th {\n",
              "        text-align: right;\n",
              "    }\n",
              "</style>\n",
              "<table border=\"1\" class=\"dataframe\">\n",
              "  <thead>\n",
              "    <tr style=\"text-align: right;\">\n",
              "      <th></th>\n",
              "      <th>0</th>\n",
              "      <th>1</th>\n",
              "    </tr>\n",
              "  </thead>\n",
              "  <tbody>\n",
              "    <tr>\n",
              "      <th>0</th>\n",
              "      <td>1</td>\n",
              "      <td>5</td>\n",
              "    </tr>\n",
              "    <tr>\n",
              "      <th>1</th>\n",
              "      <td>9</td>\n",
              "      <td>3</td>\n",
              "    </tr>\n",
              "  </tbody>\n",
              "</table>\n",
              "</div>"
            ],
            "text/plain": [
              "   0  1\n",
              "0  1  5\n",
              "1  9  3"
            ]
          },
          "metadata": {
            "tags": []
          },
          "execution_count": 16
        }
      ]
    },
    {
      "cell_type": "markdown",
      "metadata": {
        "id": "DdjFUGAHHWCc",
        "colab_type": "text"
      },
      "source": [
        "#### Αλλαγή  index/ονόματα στηλών:\n",
        "\n",
        "• Το Index κανονικά ξεκινά από το 0. Όταν φτιάχνουμε ένα DataFrame, έχουμε την επιλογή να προσθέσουμε το 'index' argument και να επιλέξουμε το index που θέλουμε.\n",
        "\n",
        "    dataframe = pd.DataFrame(data, index = 'values')\n",
        "\n",
        "Ή αλλιώς....\n"
      ]
    },
    {
      "cell_type": "code",
      "metadata": {
        "id": "lUZ2I38KnOAD",
        "colab_type": "code",
        "colab": {
          "base_uri": "https://localhost:8080/",
          "height": 206
        },
        "outputId": "369c40e1-bbcf-43ae-f678-707e2d5c1b19"
      },
      "source": [
        "dataframe = pd.DataFrame(new_data)\n",
        "dataframe.head()"
      ],
      "execution_count": 26,
      "outputs": [
        {
          "output_type": "execute_result",
          "data": {
            "text/html": [
              "<div>\n",
              "<style scoped>\n",
              "    .dataframe tbody tr th:only-of-type {\n",
              "        vertical-align: middle;\n",
              "    }\n",
              "\n",
              "    .dataframe tbody tr th {\n",
              "        vertical-align: top;\n",
              "    }\n",
              "\n",
              "    .dataframe thead th {\n",
              "        text-align: right;\n",
              "    }\n",
              "</style>\n",
              "<table border=\"1\" class=\"dataframe\">\n",
              "  <thead>\n",
              "    <tr style=\"text-align: right;\">\n",
              "      <th></th>\n",
              "      <th>Onoma</th>\n",
              "      <th>Ilikia</th>\n",
              "      <th>Poli</th>\n",
              "      <th>Epaggelma</th>\n",
              "    </tr>\n",
              "  </thead>\n",
              "  <tbody>\n",
              "    <tr>\n",
              "      <th>0</th>\n",
              "      <td>Maria</td>\n",
              "      <td>22</td>\n",
              "      <td>Athens</td>\n",
              "      <td>foititria</td>\n",
              "    </tr>\n",
              "    <tr>\n",
              "      <th>1</th>\n",
              "      <td>Giorgos</td>\n",
              "      <td>38</td>\n",
              "      <td>Patra</td>\n",
              "      <td>ilektrologos</td>\n",
              "    </tr>\n",
              "    <tr>\n",
              "      <th>2</th>\n",
              "      <td>Petros</td>\n",
              "      <td>31</td>\n",
              "      <td>Trikala</td>\n",
              "      <td>kathigitis</td>\n",
              "    </tr>\n",
              "    <tr>\n",
              "      <th>3</th>\n",
              "      <td>Vasiliki</td>\n",
              "      <td>19</td>\n",
              "      <td>Sparti</td>\n",
              "      <td>foititria</td>\n",
              "    </tr>\n",
              "    <tr>\n",
              "      <th>4</th>\n",
              "      <td>Alexandra</td>\n",
              "      <td>29</td>\n",
              "      <td>Serres</td>\n",
              "      <td>anergi</td>\n",
              "    </tr>\n",
              "  </tbody>\n",
              "</table>\n",
              "</div>"
            ],
            "text/plain": [
              "       Onoma  Ilikia     Poli     Epaggelma\n",
              "0      Maria      22   Athens     foititria\n",
              "1    Giorgos      38    Patra  ilektrologos\n",
              "2     Petros      31  Trikala    kathigitis\n",
              "3   Vasiliki      19   Sparti     foititria\n",
              "4  Alexandra      29   Serres        anergi"
            ]
          },
          "metadata": {
            "tags": []
          },
          "execution_count": 26
        }
      ]
    },
    {
      "cell_type": "code",
      "metadata": {
        "id": "jMpKwODrovAL",
        "colab_type": "code",
        "colab": {}
      },
      "source": [
        "dataframe.set_index('Onoma', inplace = True)"
      ],
      "execution_count": 0,
      "outputs": []
    },
    {
      "cell_type": "code",
      "metadata": {
        "id": "wl3yKawgn_XS",
        "colab_type": "code",
        "colab": {
          "base_uri": "https://localhost:8080/",
          "height": 269
        },
        "outputId": "09d445b8-0ff9-4272-ac7a-342699a2fba3"
      },
      "source": [
        "dataframe"
      ],
      "execution_count": 29,
      "outputs": [
        {
          "output_type": "execute_result",
          "data": {
            "text/html": [
              "<div>\n",
              "<style scoped>\n",
              "    .dataframe tbody tr th:only-of-type {\n",
              "        vertical-align: middle;\n",
              "    }\n",
              "\n",
              "    .dataframe tbody tr th {\n",
              "        vertical-align: top;\n",
              "    }\n",
              "\n",
              "    .dataframe thead th {\n",
              "        text-align: right;\n",
              "    }\n",
              "</style>\n",
              "<table border=\"1\" class=\"dataframe\">\n",
              "  <thead>\n",
              "    <tr style=\"text-align: right;\">\n",
              "      <th></th>\n",
              "      <th>Ilikia</th>\n",
              "      <th>Poli</th>\n",
              "      <th>Epaggelma</th>\n",
              "    </tr>\n",
              "    <tr>\n",
              "      <th>Onoma</th>\n",
              "      <th></th>\n",
              "      <th></th>\n",
              "      <th></th>\n",
              "    </tr>\n",
              "  </thead>\n",
              "  <tbody>\n",
              "    <tr>\n",
              "      <th>Maria</th>\n",
              "      <td>22</td>\n",
              "      <td>Athens</td>\n",
              "      <td>foititria</td>\n",
              "    </tr>\n",
              "    <tr>\n",
              "      <th>Giorgos</th>\n",
              "      <td>38</td>\n",
              "      <td>Patra</td>\n",
              "      <td>ilektrologos</td>\n",
              "    </tr>\n",
              "    <tr>\n",
              "      <th>Petros</th>\n",
              "      <td>31</td>\n",
              "      <td>Trikala</td>\n",
              "      <td>kathigitis</td>\n",
              "    </tr>\n",
              "    <tr>\n",
              "      <th>Vasiliki</th>\n",
              "      <td>19</td>\n",
              "      <td>Sparti</td>\n",
              "      <td>foititria</td>\n",
              "    </tr>\n",
              "    <tr>\n",
              "      <th>Alexandra</th>\n",
              "      <td>29</td>\n",
              "      <td>Serres</td>\n",
              "      <td>anergi</td>\n",
              "    </tr>\n",
              "    <tr>\n",
              "      <th>Popi</th>\n",
              "      <td>49</td>\n",
              "      <td>Chios</td>\n",
              "      <td>daskala</td>\n",
              "    </tr>\n",
              "  </tbody>\n",
              "</table>\n",
              "</div>"
            ],
            "text/plain": [
              "           Ilikia     Poli     Epaggelma\n",
              "Onoma                                   \n",
              "Maria          22   Athens     foititria\n",
              "Giorgos        38    Patra  ilektrologos\n",
              "Petros         31  Trikala    kathigitis\n",
              "Vasiliki       19   Sparti     foititria\n",
              "Alexandra      29   Serres        anergi\n",
              "Popi           49    Chios       daskala"
            ]
          },
          "metadata": {
            "tags": []
          },
          "execution_count": 29
        }
      ]
    },
    {
      "cell_type": "code",
      "metadata": {
        "id": "RBGdvUu4p50X",
        "colab_type": "code",
        "colab": {
          "base_uri": "https://localhost:8080/",
          "height": 91
        },
        "outputId": "8fc3b06e-e66d-440f-8e92-a7ec0f65f83e"
      },
      "source": [
        "dataframe.loc['Vasiliki']"
      ],
      "execution_count": 31,
      "outputs": [
        {
          "output_type": "execute_result",
          "data": {
            "text/plain": [
              "Ilikia              19\n",
              "Poli            Sparti\n",
              "Epaggelma    foititria\n",
              "Name: Vasiliki, dtype: object"
            ]
          },
          "metadata": {
            "tags": []
          },
          "execution_count": 31
        }
      ]
    },
    {
      "cell_type": "markdown",
      "metadata": {
        "id": "IcSGWK2vHWCe",
        "colab_type": "text"
      },
      "source": [
        "    • Ilikia:(22,38,31,19,29,49)\n",
        "\n",
        "    • df3.set_index('Ilikia')"
      ]
    },
    {
      "cell_type": "markdown",
      "metadata": {
        "id": "H4zCp_8zHWCf",
        "colab_type": "text"
      },
      "source": [
        "• Μέθοδος df.rename(): για να μετονομάσουμε στήλες \n",
        "\n",
        "\n",
        "**Παράδειγμα** : \n",
        "\n",
        "    newcols = {'Onoma': 'Mikro Onoma'}\n",
        "\n",
        "    df2.rename(columns = newcols, inplace = True)"
      ]
    },
    {
      "cell_type": "markdown",
      "metadata": {
        "id": "9VcP5l0vHWCj",
        "colab_type": "text"
      },
      "source": [
        "#### Στατιστική:\n",
        "\n",
        "    • df.mean() επιστρέφει το mean των τιμών\n",
        "\n",
        "    • df.median() επιστρέφει το median των τιμών\n",
        "\n",
        "    • df.std() επιστρέφει ένα δείγμα του standard deviation"
      ]
    },
    {
      "cell_type": "markdown",
      "metadata": {
        "id": "vQ-4EWePHWCk",
        "colab_type": "text"
      },
      "source": [
        "#### Λειτουργίες σε συγκεκριμένο  axis :\n",
        "\n",
        "    axis= 0 ….. index\n",
        "    \n",
        "    axis= 1 ….. columns"
      ]
    },
    {
      "cell_type": "markdown",
      "metadata": {
        "id": "7PEmPxxyHWCl",
        "colab_type": "text"
      },
      "source": [
        "• Περιγράφει τα στατιστικά\n",
        "\n",
        "    df.describe() "
      ]
    },
    {
      "cell_type": "markdown",
      "metadata": {
        "id": "GCmgBiaRfYUK",
        "colab_type": "text"
      },
      "source": [
        "**Εργασία Α.** \n",
        "\n",
        "1. Δημιουργήστε ένα DataFrame με τα παρακάτω στοιχεία:  \n",
        "\n",
        "    α. Το DataFrame θα έχει 6 columns και 4 rows:  \n",
        "\n",
        "    i. με τυχαίες κανονικά κατανεμημένες τιμές  \n",
        "\n",
        "    ii. το Index θα είναι η λίστα cities = [\"Zürich\", \"Paris\", \"Athens\", \"Spain\"] \n",
        "\n",
        "    iii. Και τα columns θα έχουν τα γράμματα της αλφαβήτα  \n",
        "\n",
        "(βοήθεια: columns=list('ABCDEF') ) \n",
        "\n",
        " \n",
        "\n",
        "    β. Προσθέστε μία πόλη ακόμη με random numbers στο DataFrame.  \n",
        "\n",
        "    γ. Μετατοπίστε (Transpose) το index και τα columns και τυπώστε τις 3 πρώτες γραμμές του νέου DataFrame.  \n",
        "\n",
        " \n",
        "\n",
        " \n",
        "\n",
        "2. Δημιουργήστε ένα νέο DataFrame ίδιο με τον παρακάτω πίνακα:  \n",
        "\n",
        " \n",
        "\n",
        "        Name   Age   Sex  \n",
        "\n",
        "    0    Pavlos   20    M  \n",
        "    1    Maria    26    F  \n",
        "    2    Thanasis 19    M  \n",
        "    3    Eleni    23    F  \n",
        "    4    Niki     24    F  \n",
        "\n",
        " \n",
        "\n",
        "α. Ποια είναι η μέση ηλικία του group ; \n",
        "\n",
        "β. Αλλάξτε την σειρά των columns “Age & sex” \n",
        "\n",
        "γ. Αλλάξτε το index με το column “Name”. \n",
        "\n",
        "δ. Τυπώστε μόνο τις πληροφορίες που αφορούν την Νίκη.  \n",
        "\n",
        " \n",
        "\n",
        " "
      ]
    },
    {
      "cell_type": "code",
      "metadata": {
        "id": "rRyRcdS0gih-",
        "colab_type": "code",
        "colab": {}
      },
      "source": [
        ""
      ],
      "execution_count": 0,
      "outputs": []
    }
  ]
}