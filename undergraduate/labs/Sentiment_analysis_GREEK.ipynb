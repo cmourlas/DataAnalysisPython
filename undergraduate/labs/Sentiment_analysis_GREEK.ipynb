{
  "nbformat": 4,
  "nbformat_minor": 0,
  "metadata": {
    "kernelspec": {
      "display_name": "Python 3",
      "language": "python",
      "name": "python3"
    },
    "language_info": {
      "codemirror_mode": {
        "name": "ipython",
        "version": 3
      },
      "file_extension": ".py",
      "mimetype": "text/x-python",
      "name": "python",
      "nbconvert_exporter": "python",
      "pygments_lexer": "ipython3",
      "version": "3.6.7"
    },
    "colab": {
      "name": "Sentiment analysis GREEK.ipynb",
      "provenance": [],
      "collapsed_sections": []
    }
  },
  "cells": [
    {
      "cell_type": "code",
      "metadata": {
        "id": "hqNJYsLQNLdo",
        "colab_type": "code",
        "colab": {}
      },
      "source": [
        "!python -m spacy download el_core_news_sm"
      ],
      "execution_count": 0,
      "outputs": []
    },
    {
      "cell_type": "code",
      "metadata": {
        "id": "XJVguSunNaHp",
        "colab_type": "code",
        "colab": {}
      },
      "source": [
        "from google.colab import drive\n",
        "drive.mount('/content/gdrive')"
      ],
      "execution_count": 0,
      "outputs": []
    },
    {
      "cell_type": "code",
      "metadata": {
        "id": "yvYxiMpWKmeX",
        "colab_type": "code",
        "colab": {}
      },
      "source": [
        "import pandas as pd\n",
        "%matplotlib inline\n",
        "import numpy as np\n",
        "import glob\n",
        "from sklearn.feature_extraction.text import CountVectorizer\n",
        "from datetime import datetime"
      ],
      "execution_count": 0,
      "outputs": []
    },
    {
      "cell_type": "markdown",
      "metadata": {
        "id": "cyS7834YKmen",
        "colab_type": "text"
      },
      "source": [
        "# Διαβάζουμε το EmoLex\n",
        "\n"
      ]
    },
    {
      "cell_type": "code",
      "metadata": {
        "id": "QUZvX5bbKmep",
        "colab_type": "code",
        "colab": {}
      },
      "source": [
        "filepath = \"https://raw.githubusercontent.com/datajour-gr/Data_journalism/master/week10/NRC_GREEK_Translated_6_2020.csv\"\n",
        "emolex_df = pd.read_csv(filepath)\n",
        "emolex_df.head()"
      ],
      "execution_count": 0,
      "outputs": []
    },
    {
      "cell_type": "code",
      "metadata": {
        "id": "dy-j9HfPLLJF",
        "colab_type": "code",
        "colab": {}
      },
      "source": [
        "emolex_df.tail()"
      ],
      "execution_count": 0,
      "outputs": []
    },
    {
      "cell_type": "code",
      "metadata": {
        "id": "QstGSPMcKmgu",
        "colab_type": "code",
        "colab": {}
      },
      "source": [
        "emolex_df = emolex_df.drop_duplicates(subset=['word'])\n",
        "emolex_df = emolex_df.dropna()\n",
        "emolex_df.reset_index(inplace = True)"
      ],
      "execution_count": 0,
      "outputs": []
    },
    {
      "cell_type": "code",
      "metadata": {
        "id": "diXsXpAGMJ4m",
        "colab_type": "code",
        "colab": {}
      },
      "source": [
        "emolex_df.tail()"
      ],
      "execution_count": 0,
      "outputs": []
    },
    {
      "cell_type": "code",
      "metadata": {
        "id": "_BOES_BaNuNR",
        "colab_type": "code",
        "colab": {}
      },
      "source": [
        "import spacy\n",
        "nlp = spacy.load('el_core_news_sm')"
      ],
      "execution_count": 0,
      "outputs": []
    },
    {
      "cell_type": "code",
      "metadata": {
        "id": "9mZaOZeENudO",
        "colab_type": "code",
        "colab": {}
      },
      "source": [
        ""
      ],
      "execution_count": 0,
      "outputs": []
    },
    {
      "cell_type": "code",
      "metadata": {
        "id": "-xC37af_Nuwp",
        "colab_type": "code",
        "colab": {}
      },
      "source": [
        ""
      ],
      "execution_count": 0,
      "outputs": []
    },
    {
      "cell_type": "markdown",
      "metadata": {
        "id": "6tXMsSZAKmhI",
        "colab_type": "text"
      },
      "source": [
        "## Διαβάζουμε τα tweets\n",
        "\n"
      ]
    },
    {
      "cell_type": "code",
      "metadata": {
        "id": "1VNqKQj6KmhK",
        "colab_type": "code",
        "colab": {}
      },
      "source": [
        "full_tweets_df = pd.read_csv(\"/content/gdrive/My Drive/Colab Notebooks/TsiprasTweets080419.tsv\", sep='\\t')"
      ],
      "execution_count": 0,
      "outputs": []
    },
    {
      "cell_type": "code",
      "metadata": {
        "id": "fVEEyxEQKmhS",
        "colab_type": "code",
        "colab": {}
      },
      "source": [
        "len(full_tweets_df)"
      ],
      "execution_count": 0,
      "outputs": []
    },
    {
      "cell_type": "code",
      "metadata": {
        "id": "QMXaawlMOUBp",
        "colab_type": "code",
        "colab": {}
      },
      "source": [
        "short_tweets = full_tweets_df[['created_at','full_text' ]]\n",
        "short_tweets = short_tweets.rename(columns={'created_at': 'date', 'full_text': 'text'} )"
      ],
      "execution_count": 0,
      "outputs": []
    },
    {
      "cell_type": "code",
      "metadata": {
        "id": "2og_0oxQOUXO",
        "colab_type": "code",
        "colab": {}
      },
      "source": [
        ""
      ],
      "execution_count": 0,
      "outputs": []
    },
    {
      "cell_type": "code",
      "metadata": {
        "id": "ls3YT5I9KmhZ",
        "colab_type": "code",
        "colab": {}
      },
      "source": [
        "short_tweets.tail()"
      ],
      "execution_count": 0,
      "outputs": []
    },
    {
      "cell_type": "code",
      "metadata": {
        "id": "i3Tp0GmHKmhh",
        "colab_type": "code",
        "colab": {}
      },
      "source": [
        "short_tweets.dtypes"
      ],
      "execution_count": 0,
      "outputs": []
    },
    {
      "cell_type": "code",
      "metadata": {
        "id": "qKgEt9lUKmhp",
        "colab_type": "code",
        "colab": {}
      },
      "source": [
        "short_tweets['date'] = pd.to_datetime(short_tweets['date'], format='%a %b %d %H:%M:%S +0000 %Y')\n"
      ],
      "execution_count": 0,
      "outputs": []
    },
    {
      "cell_type": "code",
      "metadata": {
        "id": "L75axcD5Kmhy",
        "colab_type": "code",
        "colab": {}
      },
      "source": [
        "short_tweets.dtypes"
      ],
      "execution_count": 0,
      "outputs": []
    },
    {
      "cell_type": "code",
      "metadata": {
        "id": "nFDg6UFnKmiD",
        "colab_type": "code",
        "colab": {}
      },
      "source": [
        "emolex_df['word'].head(3)"
      ],
      "execution_count": 0,
      "outputs": []
    },
    {
      "cell_type": "code",
      "metadata": {
        "id": "Z1ejKHTqPMAh",
        "colab_type": "code",
        "colab": {}
      },
      "source": [
        "short_tweets['text'] = short_tweets['text'].str.replace(r'https?:\\/\\/.*[\\r\\n]*',\" \")"
      ],
      "execution_count": 0,
      "outputs": []
    },
    {
      "cell_type": "code",
      "metadata": {
        "id": "piSEuE6lPo3_",
        "colab_type": "code",
        "colab": {}
      },
      "source": [
        "short_tweets.head()"
      ],
      "execution_count": 0,
      "outputs": []
    },
    {
      "cell_type": "code",
      "metadata": {
        "id": "1HytCc9fQG4X",
        "colab_type": "code",
        "colab": {}
      },
      "source": [
        "short_tweets.head()"
      ],
      "execution_count": 0,
      "outputs": []
    },
    {
      "cell_type": "code",
      "metadata": {
        "id": "InY7fJOWKmiK",
        "colab_type": "code",
        "colab": {}
      },
      "source": [
        "vec = CountVectorizer(analyzer = 'word', vocabulary = emolex_df.word, \n",
        "                      strip_accents = 'unicode',  \n",
        "                      stop_words= nlp.Defaults.stop_words,\n",
        "                      ngram_range=(1, 2))"
      ],
      "execution_count": 0,
      "outputs": []
    },
    {
      "cell_type": "code",
      "metadata": {
        "id": "3t1JL7h0KmiR",
        "colab_type": "code",
        "colab": {}
      },
      "source": [
        "#from sklearn.feature_extraction.text import TfidfVectorizer\n",
        "#CountVectorizer(stop_words='english', binary=True)\n",
        "# Θέλω να ελέγξω μόνο τις λέξεις που υπάρχουν στο συναισθηματικό λεξικό\n",
        "\n",
        "#CountVectorizer(analyzer = 'word', \n",
        "#                strip_accents = 'unicode', \n",
        "#                token_pattern='[Α-Ωα-ωΆ-Ώά-ώ]{2,}', \n",
        "#                stop_words= lc_stop_words_df['stop_w'].tolist())\n",
        "\n",
        "\n",
        "matrix = vec.fit_transform(short_tweets['text'])\n",
        "vocab = vec.get_feature_names()\n",
        "wordcount_df = pd.DataFrame(matrix.toarray(), columns=vocab)\n",
        "wordcount_df.head()"
      ],
      "execution_count": 0,
      "outputs": []
    },
    {
      "cell_type": "code",
      "metadata": {
        "id": "Rwc8f3cpUhZ7",
        "colab_type": "code",
        "colab": {}
      },
      "source": [
        "wordcount_df.shape"
      ],
      "execution_count": 0,
      "outputs": []
    },
    {
      "cell_type": "code",
      "metadata": {
        "scrolled": true,
        "id": "IF7-jcy5KmiY",
        "colab_type": "code",
        "colab": {}
      },
      "source": [
        "emolex_df.head()"
      ],
      "execution_count": 0,
      "outputs": []
    },
    {
      "cell_type": "code",
      "metadata": {
        "id": "yNl4MpStKmif",
        "colab_type": "code",
        "colab": {}
      },
      "source": [
        "emolex_df[emolex_df.Anger == 1].tail()"
      ],
      "execution_count": 0,
      "outputs": []
    },
    {
      "cell_type": "markdown",
      "metadata": {
        "id": "_rjoDdzyKmik",
        "colab_type": "text"
      },
      "source": [
        ""
      ]
    },
    {
      "cell_type": "code",
      "metadata": {
        "id": "1r_n7a7iKmim",
        "colab_type": "code",
        "colab": {}
      },
      "source": [
        "# Φτιάξε μια λίστα με positive words\n",
        "\n",
        "angry_words = emolex_df[emolex_df.Anger == 1]['word']\n",
        "\n",
        "positive_words = emolex_df[emolex_df.Positive == 1]['word']\n",
        "\n",
        "\n",
        "# Φτιάξε μια λίστα με sadness words\n",
        "sadness_words = emolex_df[emolex_df.Sadness == 1]['word']\n",
        "\n",
        "\n",
        "# Φτιάξε μια λίστα με surprise words\n",
        "surprise_words = emolex_df[emolex_df.Surprise == 1]['word']\n",
        "\n",
        "\n",
        "# Φτιάξε μια λίστα με disgust words\n",
        "disgust_words = emolex_df[emolex_df.Disgust == 1]['word']\n",
        "\n",
        "\n",
        "# Φτιάξε μια λίστα με anticipation words\n",
        "anticipation_words = emolex_df[emolex_df.Anticipation == 1]['word']\n",
        "\n",
        "\n",
        "# Φτιάξε μια λίστα με negative words\n",
        "negative_words = emolex_df[emolex_df.Negative == 1]['word']\n",
        "\n",
        "\n",
        "\n",
        "# Φτιάξε μια λίστα με joy words\n",
        "joy_words = emolex_df[emolex_df.Joy == 1]['word']\n",
        "\n",
        "\n",
        "# Φτιάξε μια λίστα με trust words\n",
        "trust_words = emolex_df[emolex_df.Trust == 1]['word']\n",
        "\n",
        "\n",
        "\n",
        "# Φτιάξε μια λίστα με fear words\n",
        "fear_words = emolex_df[emolex_df.Fear == 1]['word']\n",
        "\n",
        "\n"
      ],
      "execution_count": 0,
      "outputs": []
    },
    {
      "cell_type": "code",
      "metadata": {
        "id": "ssQBZ0rJKmir",
        "colab_type": "code",
        "colab": {}
      },
      "source": [
        "short_tweets.head(3)"
      ],
      "execution_count": 0,
      "outputs": []
    },
    {
      "cell_type": "code",
      "metadata": {
        "id": "AG1J-jfxKmiw",
        "colab_type": "code",
        "colab": {}
      },
      "source": [
        "short_tweets['anger'] = wordcount_df[angry_words].sum(axis=1)\n",
        "\n",
        "short_tweets['positivity'] = wordcount_df[positive_words].sum(axis=1)\n",
        "\n",
        "\n",
        "short_tweets['joy'] = wordcount_df[joy_words].sum(axis=1)\n",
        "\n",
        "\n",
        "short_tweets['disgust'] = wordcount_df[disgust_words].sum(axis=1)\n",
        "\n",
        "\n",
        "\n",
        "short_tweets['surprise'] = wordcount_df[surprise_words].sum(axis=1)\n",
        "\n",
        "short_tweets['trust'] = wordcount_df[trust_words].sum(axis=1)\n",
        "\n",
        "\n",
        "short_tweets['anticipation'] = wordcount_df[anticipation_words].sum(axis=1)\n",
        "\n",
        "\n",
        "short_tweets['sadness'] = wordcount_df[sadness_words].sum(axis=1)\n",
        "\n",
        "short_tweets['negative'] = wordcount_df[negative_words].sum(axis=1)\n",
        "\n",
        "short_tweets['fear'] = wordcount_df[fear_words].sum(axis=1)\n",
        "\n",
        "\n"
      ],
      "execution_count": 0,
      "outputs": []
    },
    {
      "cell_type": "code",
      "metadata": {
        "id": "-DUNx1F3Kmi3",
        "colab_type": "code",
        "colab": {}
      },
      "source": [
        "short_tweets"
      ],
      "execution_count": 0,
      "outputs": []
    },
    {
      "cell_type": "code",
      "metadata": {
        "id": "r6UBhT5aPpFn",
        "colab_type": "code",
        "colab": {}
      },
      "source": [
        "short_tweets.set_index('date' , inplace=True)"
      ],
      "execution_count": 0,
      "outputs": []
    },
    {
      "cell_type": "code",
      "metadata": {
        "id": "rMO54Q5gQNT1",
        "colab_type": "code",
        "colab": {}
      },
      "source": [
        "short_tweets['text'].str.len().groupby(by=short_tweets.index.month).mean().plot() "
      ],
      "execution_count": 0,
      "outputs": []
    },
    {
      "cell_type": "code",
      "metadata": {
        "id": "GIZf0XS4RR_E",
        "colab_type": "code",
        "colab": {}
      },
      "source": [
        "short_tweets['text'].str.len().resample('A').mean().plot() "
      ],
      "execution_count": 0,
      "outputs": []
    },
    {
      "cell_type": "code",
      "metadata": {
        "id": "cOnH5JNRWl2L",
        "colab_type": "code",
        "colab": {}
      },
      "source": [
        "short_tweets['positivity'].resample('A').mean().plot() "
      ],
      "execution_count": 0,
      "outputs": []
    },
    {
      "cell_type": "code",
      "metadata": {
        "id": "3qqfaMKxWvvB",
        "colab_type": "code",
        "colab": {}
      },
      "source": [
        "short_tweets['negative'].resample('A').sum().plot(color = 'b',label = 'neg').legend() "
      ],
      "execution_count": 0,
      "outputs": []
    },
    {
      "cell_type": "code",
      "metadata": {
        "id": "eMdT3XO-KmjA",
        "colab_type": "code",
        "colab": {}
      },
      "source": [
        "short_tweets['anger'].resample('M').sum().plot(figsize=(16,4))"
      ],
      "execution_count": 0,
      "outputs": []
    },
    {
      "cell_type": "code",
      "metadata": {
        "id": "NWibB2D1Xv1I",
        "colab_type": "code",
        "colab": {}
      },
      "source": [
        "ax = short_tweets['anger'].resample('M').sum().plot(figsize=(16,4), color = 'red')\n",
        "short_tweets['joy'].resample('M').sum().plot(figsize=(16,4), ax = ax, color = 'green')"
      ],
      "execution_count": 0,
      "outputs": []
    },
    {
      "cell_type": "code",
      "metadata": {
        "id": "OYHC6mDuYLkH",
        "colab_type": "code",
        "colab": {}
      },
      "source": [
        "ax = short_tweets['positivity'].resample('M').sum().plot(figsize=(16,4), color = 'red')\n",
        "short_tweets['negative'].resample('M').sum().plot(figsize=(16,4), ax = ax, color = 'green')\n",
        "short_tweets['trust'].resample('M').sum().plot(figsize=(16,4), ax = ax, color = 'blue')"
      ],
      "execution_count": 0,
      "outputs": []
    },
    {
      "cell_type": "code",
      "metadata": {
        "id": "HYyafefvaLxZ",
        "colab_type": "code",
        "colab": {}
      },
      "source": [
        "import matplotlib.pyplot as plt\n",
        "plt.style.use('ggplot')"
      ],
      "execution_count": 0,
      "outputs": []
    },
    {
      "cell_type": "code",
      "metadata": {
        "id": "gXbOUeZIKmjF",
        "colab_type": "code",
        "colab": {}
      },
      "source": [
        "ax = short_tweets['positivity'].resample('M').mean().plot(figsize=(16,4), \n",
        "                                                          color = 'g', label='pos')\n",
        "short_tweets['negative'].resample('M').mean().plot(figsize=(16,4), ax = ax, \n",
        "                                                   label = 'neg', color = 'r')\n",
        "short_tweets['trust'].resample('M').mean().plot(figsize=(16,4), ax = ax, \n",
        "                                                label = 'trust',color = 'blue').legend()"
      ],
      "execution_count": 0,
      "outputs": []
    },
    {
      "cell_type": "code",
      "metadata": {
        "id": "A2TPGRNgYzv_",
        "colab_type": "code",
        "colab": {}
      },
      "source": [
        ""
      ],
      "execution_count": 0,
      "outputs": []
    }
  ]
}