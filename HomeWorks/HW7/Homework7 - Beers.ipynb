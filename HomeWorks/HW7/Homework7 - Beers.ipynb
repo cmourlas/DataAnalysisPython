{
 "cells": [
  {
   "cell_type": "markdown",
   "metadata": {
    "collapsed": true
   },
   "source": [
    "# Μπύρες & Ζυθοποιεία"
   ]
  },
  {
   "cell_type": "markdown",
   "metadata": {},
   "source": [
    "##  Εισάγετε τις βιβλιοθήκες που θα χρειαστείτε\n",
    "### Προτείνεται τα γραφήματα να υλοποιηθούν με τη βιβλιοθήκη seaborn"
   ]
  },
  {
   "cell_type": "code",
   "execution_count": 2,
   "metadata": {},
   "outputs": [],
   "source": []
  },
  {
   "cell_type": "markdown",
   "metadata": {},
   "source": [
    "## Εισάγετε το αρχείο `craftcans.csv`, από τον φάκελο data και κοιτάξτε τις πρώτες γραμμές"
   ]
  },
  {
   "cell_type": "markdown",
   "metadata": {},
   "source": [
    "**βοήθεια**: οι κενές γραμμές, δηλαδή οι τιμές NaN του συγκεκριμένου αρχείου είναι na_values = [\"???\", \"Unknown\", \"UNKNOWN\"]"
   ]
  },
  {
   "cell_type": "code",
   "execution_count": 4,
   "metadata": {},
   "outputs": [],
   "source": []
  },
  {
   "cell_type": "markdown",
   "metadata": {},
   "source": [
    "## Πόσες γραμμές έχει το αρχείο? Τι τύπος είναι οι στήλες?"
   ]
  },
  {
   "cell_type": "code",
   "execution_count": null,
   "metadata": {},
   "outputs": [],
   "source": []
  },
  {
   "cell_type": "code",
   "execution_count": null,
   "metadata": {},
   "outputs": [],
   "source": []
  },
  {
   "cell_type": "markdown",
   "metadata": {},
   "source": [
    "# Ανάλυση ζυθοποιείων\n"
   ]
  },
  {
   "cell_type": "markdown",
   "metadata": {},
   "source": [
    "## Ποιοι είναι οι top 10 παραγωγοί μπύρας?"
   ]
  },
  {
   "cell_type": "code",
   "execution_count": null,
   "metadata": {},
   "outputs": [],
   "source": []
  },
  {
   "cell_type": "markdown",
   "metadata": {},
   "source": [
    "## Ποιο είναι το πιο κοινό μέγεθος μπύρας?\n"
   ]
  },
  {
   "cell_type": "code",
   "execution_count": null,
   "metadata": {},
   "outputs": [],
   "source": []
  },
  {
   "cell_type": "markdown",
   "metadata": {},
   "source": [
    "## Ποιο είναι το πιο συνηθισμένο ποσοστό αλκοόλ (ABV -  alcohol by volume)?\n"
   ]
  },
  {
   "cell_type": "code",
   "execution_count": null,
   "metadata": {},
   "outputs": [],
   "source": []
  },
  {
   "cell_type": "markdown",
   "metadata": {},
   "source": [
    "## Όπως βλέπετε το ABV δεν είναι αριθμός. Μετατρέψτε το σε αριθμό. \n",
    "\n",
    "3 βήματα:\n",
    "\n",
    "1. Επιλέξτε την στήλη ABV\n",
    "2. Αφαιρέστε το σύμβολο % (**βοήθεια** μετατρέψτε το σε κενό)\n",
    "3. Μετατρέψτε την στήλη τώρα σε `float`\n",
    "4. Μπορείτε να την σώσετε με ένα νέο column ή στο ίδιο.  \n",
    "\n",
    "Σε περίπτωση που όταν εισάγατε το αρχείο δεν ορίσατε ποια είναι τα κενά δεδομένα (nan) τότε ήρθε η ώρα να τα καθαρίσετε. "
   ]
  },
  {
   "cell_type": "code",
   "execution_count": null,
   "metadata": {},
   "outputs": [],
   "source": []
  },
  {
   "cell_type": "markdown",
   "metadata": {},
   "source": [
    "# Περιοχές\n"
   ]
  },
  {
   "cell_type": "markdown",
   "metadata": {},
   "source": [
    "## Ποιες είναι οι top 10 πόλεις των ΗΠΑ σε παραγωγή μπύρας? "
   ]
  },
  {
   "cell_type": "code",
   "execution_count": null,
   "metadata": {},
   "outputs": [],
   "source": []
  },
  {
   "cell_type": "markdown",
   "metadata": {},
   "source": [
    "## Βρείτε όλα τα ζυθοποιεία στο Brooklyn, NY"
   ]
  },
  {
   "cell_type": "code",
   "execution_count": 6,
   "metadata": {},
   "outputs": [
    {
     "data": {
      "text/plain": [
       "115                              4Beans\n",
       "210                              Jammer\n",
       "246                             Abigale\n",
       "404                       Nomader Weiss\n",
       "421                                 Rad\n",
       "439                        Molotov Lite\n",
       "588                             Bengali\n",
       "713                       Sensi Harvest\n",
       "969                              Hi-Res\n",
       "987               KelSo Nut Brown Lager\n",
       "1057                      Global Warmer\n",
       "1074                 Autumnation (2013)\n",
       "1093               KelSo India Pale Ale\n",
       "1267                          The Crisp\n",
       "1268                       Sweet Action\n",
       "1269                      Righteous Ale\n",
       "1270                      Bengali Tiger\n",
       "1305                      KelSo Pilsner\n",
       "1365    Hipster Ale (Two Roads Brewing)\n",
       "1366                        Bikini Beer\n",
       "1373                East India Pale Ale\n",
       "1624                             3Beans\n",
       "1836                         Brownstone\n",
       "1857                Brooklyn Summer Ale\n",
       "1962    Hipster Ale (Westbrook Brewing)\n",
       "1970                             Apollo\n",
       "1971                          Harbinger\n",
       "1972                              Resin\n",
       "2027                East India Pale Ale\n",
       "2062                             Diesel\n",
       "2074       Autumnation (2011-12) (2011)\n",
       "2140                   The Crisp (2011)\n",
       "2141                Sweet Action (2011)\n",
       "2142               Righteous Ale (2011)\n",
       "2143               Bengali Tiger (2011)\n",
       "2219         Brooklyn Summer Ale (2011)\n",
       "2350            Brooklyn Lager (16 oz.)\n",
       "2351            Brooklyn Lager (12 oz.)\n",
       "Name: Beer, dtype: object"
      ]
     },
     "execution_count": 6,
     "metadata": {},
     "output_type": "execute_result"
    }
   ],
   "source": [
    "#Με τον παρακάτω τρόπο μπορούμε να ζητήσουμε όσες γραμμές είναι ίσες με Brooklyn,\n",
    "# και να μας δείξει και την στήλη που ψάχνουμε δίπλα βάζοντας την μέσα σε [ ]\n",
    "df[df['Location'] == 'Brooklyn, NY']['Beer']"
   ]
  },
  {
   "cell_type": "markdown",
   "metadata": {},
   "source": [
    "## Ποιο ζυθοποιείο στο Brooklyn έχει τη μεγαλύτερη παραγωγή?"
   ]
  },
  {
   "cell_type": "code",
   "execution_count": null,
   "metadata": {},
   "outputs": [],
   "source": []
  },
  {
   "cell_type": "markdown",
   "metadata": {},
   "source": [
    "## Ποια είναι τα 5 δημοφιλέστερα είδη μπύρας που παράγει η Sixpoint?"
   ]
  },
  {
   "cell_type": "code",
   "execution_count": null,
   "metadata": {},
   "outputs": [],
   "source": []
  },
  {
   "cell_type": "markdown",
   "metadata": {},
   "source": [
    "## Βρείτε όλα τα ζυθοποιεία στην Νέα Υόρκη και μετά μετρήστε τα. "
   ]
  },
  {
   "cell_type": "code",
   "execution_count": null,
   "metadata": {},
   "outputs": [],
   "source": []
  },
  {
   "cell_type": "markdown",
   "metadata": {},
   "source": [
    "# Μέτρηση πικράδας!  \n",
    "\n",
    "Η μονάδα μέτρησης IBU σημαίνει [International Bitterness Unit](http://www.thebrewenthusiast.com/ibus/), συνήθως οι ζυθοποιοί καμαρώνουν όταν έχουν πικρή μπύρα!\n"
   ]
  },
  {
   "cell_type": "markdown",
   "metadata": {},
   "source": [
    "## Ποιος είναι ο μέσος όρος IBU σε όλες τις μπύρες?"
   ]
  },
  {
   "cell_type": "code",
   "execution_count": null,
   "metadata": {},
   "outputs": [],
   "source": []
  },
  {
   "cell_type": "markdown",
   "metadata": {},
   "source": [
    "## Φτάξτε ένα γράφημα διασποράς (histogram  στην python hist) για το IBU και όταν ορίσετε το ιστόγραμμα βάλτε  *30* bins αντί για το default που είναι 10"
   ]
  },
  {
   "cell_type": "code",
   "execution_count": null,
   "metadata": {},
   "outputs": [],
   "source": []
  },
  {
   "cell_type": "markdown",
   "metadata": {},
   "source": [
    "## Βρείτε όλες τις μπύρες που το IBU βρίσκεται στο 75ο εκατοστημόριο. "
   ]
  },
  {
   "cell_type": "markdown",
   "metadata": {},
   "source": [
    "**βοήθεια**: κάντε describe για να βρείτε το νούμερο"
   ]
  },
  {
   "cell_type": "code",
   "execution_count": null,
   "metadata": {},
   "outputs": [],
   "source": []
  },
  {
   "cell_type": "markdown",
   "metadata": {},
   "source": [
    "## Βρείτε όλες τις μπύρες που το IBU βρίσκεται κάτω από το 25ο εκατοστημόριο."
   ]
  },
  {
   "cell_type": "code",
   "execution_count": null,
   "metadata": {},
   "outputs": [],
   "source": []
  },
  {
   "cell_type": "markdown",
   "metadata": {},
   "source": [
    "## Βρείτε τη διάμεσο (median) του IBU για κάθε είδος μπύρας. Στην συνέχεια φτιάξτε ένα γράφημα γιαυτό. \n",
    "\n",
    "Βάλτε τα μεγάλα στο επάνω μέρος, και τα nan στο τέλος. Για να είναι όμορφο το γράφημα δεν πρέπει να εμφανίζονται το ένα πάνω στο άλλο γιαυτό μεγαλώστε το μέγεθός του με το figsize=(2,15)"
   ]
  },
  {
   "cell_type": "code",
   "execution_count": null,
   "metadata": {},
   "outputs": [],
   "source": []
  },
  {
   "cell_type": "markdown",
   "metadata": {},
   "source": [
    "## Βλέπουμε ότι υπάρχουν πολλά είδη μπύρας, ποια είναι όμως τα 5 δημοφιλέστερα χαμηλά σε πικράδα και ποια τα υψηλά (high-IBU vs. low-IBU)?\n",
    "\n",
    "Πρώτα βρείτε ποια έχουν high IBU, μετά βρείτε τα δημοφιλέστερα από αυτά και μετά πάρτε τα πρώτα 5. "
   ]
  },
  {
   "cell_type": "code",
   "execution_count": null,
   "metadata": {},
   "outputs": [],
   "source": []
  },
  {
   "cell_type": "code",
   "execution_count": null,
   "metadata": {},
   "outputs": [],
   "source": []
  },
  {
   "cell_type": "markdown",
   "metadata": {},
   "source": [
    "## Βρείτε τον μέσο όρο IBU για τις μπύρες \"Witbier\", \"Hefeweizen\" και \"American Pale Wheat Ale\" και μετά φτιάξτε ένα ιστόγραμμα. \n",
    "\n",
    "Θέλουμε μόνο ένα γράφημα, που να δείχνει όλα τα παραπάνω! Και δοκιμάστε ξανά στο ιστόγραμμα να έχετε 20-30 bins."
   ]
  },
  {
   "cell_type": "code",
   "execution_count": null,
   "metadata": {},
   "outputs": [],
   "source": []
  },
  {
   "cell_type": "code",
   "execution_count": null,
   "metadata": {},
   "outputs": [],
   "source": []
  },
  {
   "cell_type": "markdown",
   "metadata": {},
   "source": [
    "## Βρείτε το μέσο όρο IBU για το είδος \"IPA\" και φτιάξτε ένα ιστόγραμμα."
   ]
  },
  {
   "cell_type": "code",
   "execution_count": null,
   "metadata": {},
   "outputs": [],
   "source": []
  },
  {
   "cell_type": "markdown",
   "metadata": {},
   "source": [
    "## Κάντε ένα γράφημα και με τα 2 παραπάνω ιστογράμματα."
   ]
  },
  {
   "cell_type": "code",
   "execution_count": null,
   "metadata": {},
   "outputs": [],
   "source": []
  },
  {
   "cell_type": "markdown",
   "metadata": {},
   "source": [
    "## Συγκρίνετε το ABV από τις μπύρες που γίνονται από σιτάρι ( wheat ) σε σχέση με τις IPAs. Αν τα καταφέρετε, φτιάξτε και ένα γράφημα!"
   ]
  },
  {
   "cell_type": "code",
   "execution_count": null,
   "metadata": {},
   "outputs": [],
   "source": []
  },
  {
   "cell_type": "code",
   "execution_count": null,
   "metadata": {},
   "outputs": [],
   "source": []
  }
 ],
 "metadata": {
  "kernelspec": {
   "display_name": "Python 3",
   "language": "python",
   "name": "python3"
  },
  "language_info": {
   "codemirror_mode": {
    "name": "ipython",
    "version": 3
   },
   "file_extension": ".py",
   "mimetype": "text/x-python",
   "name": "python",
   "nbconvert_exporter": "python",
   "pygments_lexer": "ipython3",
   "version": "3.6.7"
  }
 },
 "nbformat": 4,
 "nbformat_minor": 2
}
